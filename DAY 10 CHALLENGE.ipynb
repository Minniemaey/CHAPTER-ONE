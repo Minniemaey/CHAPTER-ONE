{
 "cells": [
  {
   "cell_type": "markdown",
   "id": "15809d34",
   "metadata": {},
   "source": [
    "Write a function called hide_password that takes no parameters. The function takes an input (a password) from a user and returns a hidden password. For example, if the user enters ‘hello’ as a password the function should return ‘****’ as a password and tell the user that the password is 4 characters long."
   ]
  },
  {
   "cell_type": "code",
   "execution_count": 1,
   "id": "68fc6a22",
   "metadata": {},
   "outputs": [
    {
     "name": "stdout",
     "output_type": "stream",
     "text": [
      "Please enter your password:\thello\n",
      "Your password is ***** \n",
      "Your password is 5 characters long\n"
     ]
    }
   ],
   "source": [
    "def hide_password():\n",
    "    password = input(\"Please enter your password:\\t\")\n",
    "    hide = \"\".join([\"*\" for character in range(len(password))]) #using list comprehension\n",
    "    print(\"Your password is\", hide,\"\\nYour password is\",len(hide),\"characters long\")\n",
    "hide_password()"
   ]
  },
  {
   "cell_type": "markdown",
   "id": "a9e06244",
   "metadata": {},
   "source": [
    "Extra Challenge: A Thousand Separator\n",
    "Your new company has a list of figures saved in a list. The issue is that these numbers have no separator. The numbers are\n",
    "saved in the following format:[1000000, 2356989, 2354672, 9878098].You have been asked to write a code that will convert each of the numbers in the list into a string. Your code should then add a comma on each number as a thousand separator for readability. When you run your code on the above list, your output should be: [ '1,000,000', '2,356,989', '2,354,672', '9,878,098’]\n",
    "Write a function called convert_numbers that will take one argument, a list of numbers above."
   ]
  },
  {
   "cell_type": "code",
   "execution_count": 2,
   "id": "9a450c6f",
   "metadata": {
    "scrolled": false
   },
   "outputs": [
    {
     "data": {
      "text/plain": [
       "['1,000,000', '2,356,989', '2,354,672', '9,878,098']"
      ]
     },
     "execution_count": 2,
     "metadata": {},
     "output_type": "execute_result"
    }
   ],
   "source": [
    "def convert_numbers(numlist):\n",
    "    converted_list = ['{:,}'.format(num) for num in numlist]\n",
    "    return converted_list\n",
    "numlist = [1000000, 2356989, 2354672, 9878098]   \n",
    "convert_numbers(numlist)"
   ]
  }
 ],
 "metadata": {
  "kernelspec": {
   "display_name": "Python 3 (ipykernel)",
   "language": "python",
   "name": "python3"
  },
  "language_info": {
   "codemirror_mode": {
    "name": "ipython",
    "version": 3
   },
   "file_extension": ".py",
   "mimetype": "text/x-python",
   "name": "python",
   "nbconvert_exporter": "python",
   "pygments_lexer": "ipython3",
   "version": "3.9.12"
  }
 },
 "nbformat": 4,
 "nbformat_minor": 5
}
