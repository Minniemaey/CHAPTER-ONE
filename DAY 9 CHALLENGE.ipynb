{
 "cells": [
  {
   "cell_type": "markdown",
   "id": "17e2104b",
   "metadata": {},
   "source": [
    "Create a function called biggest_odd that takes a string of numbers and returns the biggest odd number in the list. For\n",
    "example, if you pass ‘23569’ as an argument, your function should return 9. Use list comprehension."
   ]
  },
  {
   "cell_type": "code",
   "execution_count": 1,
   "id": "1289e8bb",
   "metadata": {},
   "outputs": [
    {
     "name": "stdout",
     "output_type": "stream",
     "text": [
      "23569\n",
      "['3', '5', '9'] \n",
      " 9\n"
     ]
    }
   ],
   "source": [
    "#creating a function biggest_odd\n",
    "def biggest_odd(num_str):\n",
    "    #list comprehension to create a list of odd numbers from string argument\n",
    "    odd = [num for num in num_str if int(num) % 2 != 0] \n",
    "    #printing the list of odd numbers and in a new line print maximum odd number \n",
    "    print(odd, '\\n', max(odd))\n",
    "    \n",
    "num_str = \"23569\"\n",
    "print(num_str)\n",
    "\n",
    "biggest_odd(num_str)"
   ]
  },
  {
   "cell_type": "markdown",
   "id": "b61281c6",
   "metadata": {},
   "source": [
    "Write a function called zeros_last. This function takes a list as argument. If a list has zeros (0), it will move them to the front of the list and maintain the order of the other numbers in the list. If there are no Zeros in the list, the function should return the original list sorted in ascending order. For example, if you pass [1, 4, 6, 0, 7,0,9] as an argument, your code should return [1,4, 6, 7, 9, 0, 0]. If you pass [2, 1, 4, 7, 6] as your argument, your code should return [1, 2, 4, 6, 7]."
   ]
  },
  {
   "cell_type": "code",
   "execution_count": 2,
   "id": "5fc97b12",
   "metadata": {},
   "outputs": [
    {
     "data": {
      "text/plain": [
       "[1, 4, 6, 7, 9, 0, 0]"
      ]
     },
     "execution_count": 2,
     "metadata": {},
     "output_type": "execute_result"
    }
   ],
   "source": [
    "def zeros_last(lists):\n",
    "    newlist = []\n",
    "    zeros = []\n",
    "    for num in lists:\n",
    "        if num != 0:\n",
    "            newlist.append(num)\n",
    "        if num == 0:\n",
    "            zeros.append(num)\n",
    "    return sorted(newlist) + zeros\n",
    "lists = [1, 4, 6, 0, 7,0,9]\n",
    "zeros_last(lists)"
   ]
  },
  {
   "cell_type": "code",
   "execution_count": 3,
   "id": "69baa863",
   "metadata": {
    "scrolled": false
   },
   "outputs": [
    {
     "data": {
      "text/plain": [
       "[1, 2, 4, 6, 7]"
      ]
     },
     "execution_count": 3,
     "metadata": {},
     "output_type": "execute_result"
    }
   ],
   "source": [
    "lists = [2, 1, 4, 7, 6] \n",
    "zeros_last(lists)"
   ]
  }
 ],
 "metadata": {
  "kernelspec": {
   "display_name": "Python 3 (ipykernel)",
   "language": "python",
   "name": "python3"
  },
  "language_info": {
   "codemirror_mode": {
    "name": "ipython",
    "version": 3
   },
   "file_extension": ".py",
   "mimetype": "text/x-python",
   "name": "python",
   "nbconvert_exporter": "python",
   "pygments_lexer": "ipython3",
   "version": "3.9.12"
  }
 },
 "nbformat": 4,
 "nbformat_minor": 5
}
