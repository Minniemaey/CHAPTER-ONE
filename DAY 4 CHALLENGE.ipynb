{
 "cells": [
  {
   "cell_type": "markdown",
   "id": "2f30d83e",
   "metadata": {},
   "source": [
    "Write a function called only_floats, which takes two parameters a and b, and returns 2 if both arguments are floats, returns 1 if only one argument is a float, and returns 0 if neither argument is a float. If you pass (12.1, 23) as an argument, your\n",
    "function should return a 1."
   ]
  },
  {
   "cell_type": "code",
   "execution_count": 1,
   "id": "82bfdd4e",
   "metadata": {},
   "outputs": [],
   "source": [
    "#defining the function only_floats which takes two parameters a and b\n",
    "def only_floats(a, b):\n",
    "    if type(a) == float and type(b) == float:\n",
    "        return 2\n",
    "    elif type(a)== float or type(b)== float:\n",
    "        return 1\n",
    "    else:\n",
    "        if type(a) != float and type(b) != float:\n",
    "            return 0"
   ]
  },
  {
   "cell_type": "code",
   "execution_count": 2,
   "id": "b5baacf1",
   "metadata": {},
   "outputs": [
    {
     "data": {
      "text/plain": [
       "1"
      ]
     },
     "execution_count": 2,
     "metadata": {},
     "output_type": "execute_result"
    }
   ],
   "source": [
    "only_floats(12.1, 23)"
   ]
  },
  {
   "cell_type": "code",
   "execution_count": 3,
   "id": "2c331ccd",
   "metadata": {},
   "outputs": [
    {
     "data": {
      "text/plain": [
       "0"
      ]
     },
     "execution_count": 3,
     "metadata": {},
     "output_type": "execute_result"
    }
   ],
   "source": [
    "only_floats(12, 23)"
   ]
  },
  {
   "cell_type": "code",
   "execution_count": 4,
   "id": "d3ece308",
   "metadata": {},
   "outputs": [
    {
     "data": {
      "text/plain": [
       "2"
      ]
     },
     "execution_count": 4,
     "metadata": {},
     "output_type": "execute_result"
    }
   ],
   "source": [
    "only_floats(12.1, 23.3)"
   ]
  },
  {
   "cell_type": "markdown",
   "id": "72c0988e",
   "metadata": {},
   "source": [
    "Extra Challenge"
   ]
  },
  {
   "cell_type": "markdown",
   "id": "734a1d0e",
   "metadata": {},
   "source": [
    "Write a function called word_index that takes one argument, a list of strings and returns the index of the longest word in the list. If there is no longest word (if all the strings are of the same length), the function should return zero (0). \n",
    "For example, the list below should return 2.  \n",
    "    words1 = [\"Hate\", \"remorse\", \"vengeance\"]     \n",
    "And this list below, should return zero (0) \n",
    "    words2 = [\"Love\", \"Hate\"] "
   ]
  },
  {
   "cell_type": "code",
   "execution_count": 5,
   "id": "4acb6f57",
   "metadata": {},
   "outputs": [],
   "source": [
    "#defining the function word_index to check the longest word and return its index\n",
    "def word_index(list):\n",
    "    longest = []\n",
    "    for word in list:\n",
    "        if len(word) > len(longest):\n",
    "            longest = word\n",
    "    return list.index(longest)   #returns the index number of the longest word as output\n",
    "words1 = [\"hate\", \"remorse\", \"vengeance\"]\n",
    "words2 = [\"Love\", \"Hate\"]        "
   ]
  },
  {
   "cell_type": "code",
   "execution_count": 6,
   "id": "a1b23d36",
   "metadata": {
    "scrolled": true
   },
   "outputs": [
    {
     "data": {
      "text/plain": [
       "2"
      ]
     },
     "execution_count": 6,
     "metadata": {},
     "output_type": "execute_result"
    }
   ],
   "source": [
    "word_index(words1)"
   ]
  },
  {
   "cell_type": "code",
   "execution_count": 7,
   "id": "e4acfe93",
   "metadata": {
    "scrolled": true
   },
   "outputs": [
    {
     "data": {
      "text/plain": [
       "0"
      ]
     },
     "execution_count": 7,
     "metadata": {},
     "output_type": "execute_result"
    }
   ],
   "source": [
    "word_index(words2)"
   ]
  }
 ],
 "metadata": {
  "kernelspec": {
   "display_name": "Python 3 (ipykernel)",
   "language": "python",
   "name": "python3"
  },
  "language_info": {
   "codemirror_mode": {
    "name": "ipython",
    "version": 3
   },
   "file_extension": ".py",
   "mimetype": "text/x-python",
   "name": "python",
   "nbconvert_exporter": "python",
   "pygments_lexer": "ipython3",
   "version": "3.9.12"
  }
 },
 "nbformat": 4,
 "nbformat_minor": 5
}
