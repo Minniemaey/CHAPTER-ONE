{
 "cells": [
  {
   "cell_type": "markdown",
   "id": "a63dfe5c",
   "metadata": {},
   "source": [
    "Are They Equal?\n",
    "Write a function called equal_strings. The function takes two strings as arguments and compares them. If the strings are equal (if they have the same characters and have equal length), it should return True, if they are not, it should return False. For example, ‘love’ and ‘evol’ should return True."
   ]
  },
  {
   "cell_type": "code",
   "execution_count": 1,
   "id": "3ff54202",
   "metadata": {},
   "outputs": [
    {
     "name": "stdout",
     "output_type": "stream",
     "text": [
      "Enter string: love\n",
      "Enter string: evol\n"
     ]
    },
    {
     "data": {
      "text/plain": [
       "True"
      ]
     },
     "execution_count": 1,
     "metadata": {},
     "output_type": "execute_result"
    }
   ],
   "source": [
    "def equal_strings(arg1, arg2):\n",
    "    if sorted(arg1) == sorted(arg2) and len(arg1) == len(arg2):\n",
    "        return True\n",
    "    else:\n",
    "        return False\n",
    "arg1 = input(\"Enter string: \")\n",
    "arg2 = input(\"Enter string: \")\n",
    "equal_strings(arg1, arg2)\n"
   ]
  },
  {
   "cell_type": "markdown",
   "id": "a4da82ff",
   "metadata": {},
   "source": [
    "Extra Challenge: Swap Values\n",
    "Write a function called swap_values. This function takes a list of numbers and swaps the first element with the last element.\n",
    "For example, if you pass [2, 4,67, 7] as a parameter, your function should return [7, 4, 67, 2]."
   ]
  },
  {
   "cell_type": "code",
   "execution_count": 2,
   "id": "eb4208ca",
   "metadata": {},
   "outputs": [
    {
     "name": "stdout",
     "output_type": "stream",
     "text": [
      "Original list: [2, 4, 67, 7]\n",
      "New list: [7, 4, 67, 2]\n"
     ]
    }
   ],
   "source": [
    "def swap_values(list):\n",
    "    list[0], list[-1] = list[-1], list[0]\n",
    "    print(\"New list:\", list)\n",
    "list = [2, 4,67, 7]\n",
    "print(\"Original list:\",list)\n",
    "swap_values(list)"
   ]
  }
 ],
 "metadata": {
  "kernelspec": {
   "display_name": "Python 3 (ipykernel)",
   "language": "python",
   "name": "python3"
  },
  "language_info": {
   "codemirror_mode": {
    "name": "ipython",
    "version": 3
   },
   "file_extension": ".py",
   "mimetype": "text/x-python",
   "name": "python",
   "nbconvert_exporter": "python",
   "pygments_lexer": "ipython3",
   "version": "3.9.12"
  }
 },
 "nbformat": 4,
 "nbformat_minor": 5
}
