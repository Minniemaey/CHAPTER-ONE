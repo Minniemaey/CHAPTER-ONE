{
 "cells": [
  {
   "cell_type": "markdown",
   "id": "248c685a",
   "metadata": {},
   "source": [
    "Write a function called check_pangram that takes a string and checks if it is a pangram. A pangram is a sentence that contains all the letters of the alphabet. If it is a pangram, the function should return True, otherwise, return False. The following sentence is a pangram so it should return True: 'the quick brown fox jumps over a lazy dog'\n"
   ]
  },
  {
   "cell_type": "code",
   "execution_count": 1,
   "id": "d5f8fe5c",
   "metadata": {},
   "outputs": [
    {
     "data": {
      "text/plain": [
       "True"
      ]
     },
     "execution_count": 1,
     "metadata": {},
     "output_type": "execute_result"
    }
   ],
   "source": [
    "def check_pangram(string):\n",
    "    alpha_library = 'abcdefghijklmnopqrstuvwxyz'  \n",
    "    red_tag = 0\n",
    "    for letter in alpha_library:\n",
    "        if letter not in string:\n",
    "            red_tag = 1\n",
    "    if red_tag == 1:\n",
    "        return False\n",
    "    else:\n",
    "        return True\n",
    "string = 'the quick brown fox jumps over a lazy dog'\n",
    "check_pangram(string)"
   ]
  },
  {
   "cell_type": "code",
   "execution_count": 2,
   "id": "a4b44902",
   "metadata": {},
   "outputs": [
    {
     "data": {
      "text/plain": [
       "True"
      ]
     },
     "execution_count": 2,
     "metadata": {},
     "output_type": "execute_result"
    }
   ],
   "source": [
    "def check_pangram(string):\n",
    "    alpha_library = 'abcdefghijklmnopqrstuvwxyz'  \n",
    "    for letter in alpha_library:\n",
    "        if letter not in string:\n",
    "            return False\n",
    "        else:\n",
    "            return True\n",
    "string = 'the quick brown fox jumps over a lazy dog'\n",
    "check_pangram(string)"
   ]
  },
  {
   "cell_type": "markdown",
   "id": "eca91f73",
   "metadata": {},
   "source": [
    "Extra Challenge: Find my Position \n",
    "Write a function called find_index that takes two arguments; a list of integers, and an integer. The function should return the\n",
    "indexes of the integer in the list. If the integer is not in the list, the function should convert all the numbers in the list into the given integer. For example, if the list is: [1, 2, 4, 6, 7, 7] and the integer is 7, your code should return [4, 5] as the indexes of 7 in the list. If the list is [1, 2, 4, 6, 7, 7] and the integer is 8, your code should return [8, 8, 8, 8, 8, 8] because 8 is not in the list."
   ]
  },
  {
   "cell_type": "code",
   "execution_count": 3,
   "id": "713af959",
   "metadata": {
    "scrolled": true
   },
   "outputs": [
    {
     "name": "stdout",
     "output_type": "stream",
     "text": [
      "[4, 5]\n"
     ]
    }
   ],
   "source": [
    "def find_index(list, int):\n",
    "    index_list = [index for index, num in enumerate(list) if num == int]\n",
    "    new_list = [int for num in list if int not in list]\n",
    "    if int in list:\n",
    "        print(index_list)\n",
    "    else:\n",
    "        print(new_list)\n",
    "            \n",
    "list = [1, 2, 4, 6, 7, 7]\n",
    "int = 7\n",
    "find_index(list, int)"
   ]
  },
  {
   "cell_type": "code",
   "execution_count": 4,
   "id": "db9f6a75",
   "metadata": {
    "scrolled": true
   },
   "outputs": [
    {
     "name": "stdout",
     "output_type": "stream",
     "text": [
      "[8, 8, 8, 8, 8, 8]\n"
     ]
    }
   ],
   "source": [
    "find_index(list, 8)"
   ]
  }
 ],
 "metadata": {
  "kernelspec": {
   "display_name": "Python 3 (ipykernel)",
   "language": "python",
   "name": "python3"
  },
  "language_info": {
   "codemirror_mode": {
    "name": "ipython",
    "version": 3
   },
   "file_extension": ".py",
   "mimetype": "text/x-python",
   "name": "python",
   "nbconvert_exporter": "python",
   "pygments_lexer": "ipython3",
   "version": "3.9.12"
  }
 },
 "nbformat": 4,
 "nbformat_minor": 5
}
