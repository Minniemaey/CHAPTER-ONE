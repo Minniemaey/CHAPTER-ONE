{
 "cells": [
  {
   "cell_type": "markdown",
   "id": "513096db",
   "metadata": {},
   "source": [
    "Day 13: Pay Your Tax\n",
    "Write a function called your_vat. The function takes no parameter. The function asks the user to input the price of an\n",
    "item and VAT (vat should be a percentage). The function should return the price of the item plus VAT. If the price is 220 and, VAT is 15% your code should return a vat inclusive price of 253. Make sure that your code can handle ValueError. Ensure the code runs until valid numbers are entered. (hint: Your code should include a while loop)."
   ]
  },
  {
   "cell_type": "code",
   "execution_count": 1,
   "id": "701de802",
   "metadata": {},
   "outputs": [
    {
     "name": "stdout",
     "output_type": "stream",
     "text": [
      "Enter price of item($): $220\n",
      "Enter VAT percent(%): 15%\n",
      "Price of item + VAT is $253.0\n"
     ]
    }
   ],
   "source": [
    "def your_vat():\n",
    "    while True:\n",
    "        try:\n",
    "            Item_price = float(input(\"Enter price of item($): \").replace(\"$\",\"\"))\n",
    "            VAT = float(input(\"Enter VAT percent(%): \").replace(\"%\", \"\"))\n",
    "#when the user inputs valid item price and vat format (conditions are true), the loop will break and print the result\n",
    "            break      \n",
    "        except ValueError: \n",
    "#when user inputs a non-valid price or vat format(conditions are false), it prints an error and prompt the user to re-enter         \n",
    "            print(\"Sorry, input valid amount.\")\n",
    "            \n",
    "    Price_plus_VAT = Item_price + (VAT/100 *Item_price)\n",
    "    print(\"Price of item + VAT is\", \"${:,}\".format(Price_plus_VAT))\n",
    "your_vat()"
   ]
  },
  {
   "cell_type": "markdown",
   "id": "9da5192d",
   "metadata": {},
   "source": [
    "Extra Challenge: Pyramid of Snakes\n",
    "Write a function called Python_snakes that takes a number as an argument and creates the following shape, using the number’s range: (hint: Use the loops and emoji library. If you pass 7 as argument, your code should print the following:"
   ]
  },
  {
   "cell_type": "code",
   "execution_count": 2,
   "id": "58b0620d",
   "metadata": {},
   "outputs": [
    {
     "name": "stdout",
     "output_type": "stream",
     "text": [
      "Defaulting to user installation because normal site-packages is not writeable\n",
      "Requirement already satisfied: emoji in c:\\users\\lenovo\\appdata\\roaming\\python\\python39\\site-packages (2.1.0)\n",
      "Note: you may need to restart the kernel to use updated packages.\n"
     ]
    }
   ],
   "source": [
    "pip install emoji"
   ]
  },
  {
   "cell_type": "code",
   "execution_count": 3,
   "id": "3e689516",
   "metadata": {},
   "outputs": [],
   "source": [
    "from emoji import emojize"
   ]
  },
  {
   "cell_type": "code",
   "execution_count": 4,
   "id": "68194de4",
   "metadata": {},
   "outputs": [
    {
     "name": "stdout",
     "output_type": "stream",
     "text": [
      "Enter a number: 7\n",
      "\n",
      "🐍\n",
      "🐍🐍\n",
      "🐍🐍🐍\n",
      "🐍🐍🐍🐍\n",
      "🐍🐍🐍🐍🐍\n",
      "🐍🐍🐍🐍🐍🐍\n"
     ]
    }
   ],
   "source": [
    "number = int(input(\"Enter a number: \"))\n",
    "def Python_snakes(number):\n",
    "    for number in range(number):\n",
    "        for values in range(number):\n",
    "            emojize(\":snake:\")\n",
    "            print(emojize(\":snake:\"), end=\"\")\n",
    "        print()\n",
    "Python_snakes(number)"
   ]
  },
  {
   "cell_type": "code",
   "execution_count": 5,
   "id": "a6ad9af0",
   "metadata": {},
   "outputs": [
    {
     "name": "stdout",
     "output_type": "stream",
     "text": [
      "Enter a number: 7\n",
      "\n",
      "🐍\n",
      "🐍🐍\n",
      "🐍🐍🐍\n",
      "🐍🐍🐍🐍\n",
      "🐍🐍🐍🐍🐍\n",
      "🐍🐍🐍🐍🐍🐍\n"
     ]
    }
   ],
   "source": [
    "#alternativley\n",
    "number = int(input(\"Enter a number: \"))\n",
    "def Python_snakes(number):\n",
    "    for i in range(number):\n",
    "        print(emojize(\":snake:\") * i)\n",
    "Python_snakes(number)"
   ]
  }
 ],
 "metadata": {
  "kernelspec": {
   "display_name": "Python 3 (ipykernel)",
   "language": "python",
   "name": "python3"
  },
  "language_info": {
   "codemirror_mode": {
    "name": "ipython",
    "version": 3
   },
   "file_extension": ".py",
   "mimetype": "text/x-python",
   "name": "python",
   "nbconvert_exporter": "python",
   "pygments_lexer": "ipython3",
   "version": "3.9.12"
  }
 },
 "nbformat": 4,
 "nbformat_minor": 5
}
