{
 "cells": [
  {
   "cell_type": "markdown",
   "id": "e7bd1bf1",
   "metadata": {},
   "source": [
    "Day 22: Add Under_Score\n",
    "Create three functions. The first called add_hash takes a string and adds a hash # between the words. The second function called\n",
    "add_underscore removes the hash (#) and replaces it with an underscore \"_\" The third function called remove_underscore, removes the underscore and replaces it with nothing. if you pass ‘Python’ as an argument for the three functions, and you call them at\n",
    "the same time like: print(remove_underscore(add_underscore(add_hash('Python')))) it should return ‘Python’."
   ]
  },
  {
   "cell_type": "code",
   "execution_count": 8,
   "id": "c3cf66e1",
   "metadata": {},
   "outputs": [
    {
     "ename": "IndentationError",
     "evalue": "expected an indented block (670125573.py, line 13)",
     "output_type": "error",
     "traceback": [
      "\u001b[1;36m  Input \u001b[1;32mIn [8]\u001b[1;36m\u001b[0m\n\u001b[1;33m    remove_underscore = underscored_string.replace(\"_\", \"\")\u001b[0m\n\u001b[1;37m    ^\u001b[0m\n\u001b[1;31mIndentationError\u001b[0m\u001b[1;31m:\u001b[0m expected an indented block\n"
     ]
    }
   ],
   "source": [
    "def add_hash(string):\n",
    "    hashedstring = string.replace(\" \", \"#\")\n",
    "    return hashedstring\n",
    "string = input(\"Enter string:\")\n",
    "add_hash(string)\n",
    "def add_underscore(string):\n",
    "    if string:\n",
    "        underscored_string = hashedstring.replace(\"#\", \"_\")\n",
    "    return underscored_string\n",
    "add_underscore(string)\n",
    "def remove_underscore(string):\n",
    "    if string:\n",
    "    remove_underscore = underscored_string.replace(\"_\", \"\")\n",
    "    return remove_underscore\n",
    "remove_underscore(string)\n",
    "remove_underscore(add_underscore(add_hash(string)))\n",
    "\n",
    "    "
   ]
  },
  {
   "cell_type": "code",
   "execution_count": null,
   "id": "8324c562",
   "metadata": {},
   "outputs": [],
   "source": []
  },
  {
   "cell_type": "code",
   "execution_count": null,
   "id": "bf2f15c7",
   "metadata": {},
   "outputs": [],
   "source": []
  }
 ],
 "metadata": {
  "kernelspec": {
   "display_name": "Python 3 (ipykernel)",
   "language": "python",
   "name": "python3"
  },
  "language_info": {
   "codemirror_mode": {
    "name": "ipython",
    "version": 3
   },
   "file_extension": ".py",
   "mimetype": "text/x-python",
   "name": "python",
   "nbconvert_exporter": "python",
   "pygments_lexer": "ipython3",
   "version": "3.9.12"
  }
 },
 "nbformat": 4,
 "nbformat_minor": 5
}
