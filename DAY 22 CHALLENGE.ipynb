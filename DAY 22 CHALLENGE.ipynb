{
 "cells": [
  {
   "cell_type": "markdown",
   "id": "e7bd1bf1",
   "metadata": {},
   "source": [
    "Day 22: Add Under_Score\n",
    "Create three functions. The first called add_hash takes a string and adds a hash # between the words. The second function called\n",
    "add_underscore removes the hash (#) and replaces it with an underscore \"_\" The third function called remove_underscore, removes the underscore and replaces it with nothing. if you pass ‘Python’ as an argument for the three functions, and you call them at\n",
    "the same time like: print(remove_underscore(add_underscore(add_hash('Python')))) it should return ‘Python’."
   ]
  },
  {
   "cell_type": "code",
   "execution_count": 1,
   "id": "7c97734d",
   "metadata": {},
   "outputs": [
    {
     "name": "stdout",
     "output_type": "stream",
     "text": [
      "Enter string:This book is interesting\n"
     ]
    },
    {
     "data": {
      "text/plain": [
       "'Thisbookisinteresting'"
      ]
     },
     "execution_count": 1,
     "metadata": {},
     "output_type": "execute_result"
    }
   ],
   "source": [
    "def add_hash(string): \n",
    "    string = string.replace(\" \", \"#\")\n",
    "    return string \n",
    "# This function takes the output from add_hash and use it as an input \n",
    "def add_underscore(string): \n",
    "    return add_hash(string).replace(\"#\", \"_\")\n",
    "# This function takes the output from add_underscore and use it as an input\n",
    "def remove_underscore(string):\n",
    "    return add_underscore(string).replace(\"_\", \"\")\n",
    "\n",
    "string = input(\"Enter string:\")\n",
    " #calling all the functions we have\n",
    "(remove_underscore(add_underscore(add_hash(string))))"
   ]
  },
  {
   "cell_type": "code",
   "execution_count": 2,
   "id": "8324c562",
   "metadata": {},
   "outputs": [
    {
     "data": {
      "text/plain": [
       "'Python'"
      ]
     },
     "execution_count": 2,
     "metadata": {},
     "output_type": "execute_result"
    }
   ],
   "source": [
    "(remove_underscore(add_underscore(add_hash('Python'))))"
   ]
  },
  {
   "cell_type": "code",
   "execution_count": null,
   "id": "bf2f15c7",
   "metadata": {},
   "outputs": [],
   "source": []
  }
 ],
 "metadata": {
  "kernelspec": {
   "display_name": "Python 3 (ipykernel)",
   "language": "python",
   "name": "python3"
  },
  "language_info": {
   "codemirror_mode": {
    "name": "ipython",
    "version": 3
   },
   "file_extension": ".py",
   "mimetype": "text/x-python",
   "name": "python",
   "nbconvert_exporter": "python",
   "pygments_lexer": "ipython3",
   "version": "3.9.12"
  }
 },
 "nbformat": 4,
 "nbformat_minor": 5
}
