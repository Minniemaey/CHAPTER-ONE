{
 "cells": [
  {
   "cell_type": "markdown",
   "id": "c38326d4",
   "metadata": {},
   "source": [
    "Day 25: All the Same\n",
    "Create a function called all_the_same that takes one argument, a string, a list, or a tuple and checks if all the elements are the same. If the elements are the same, the function should return True. If not, it should return False. For example, [‘Mary’, ‘Mary’, ‘Mary’] should return True."
   ]
  },
  {
   "cell_type": "code",
   "execution_count": 1,
   "id": "4a51338f",
   "metadata": {},
   "outputs": [
    {
     "data": {
      "text/plain": [
       "True"
      ]
     },
     "execution_count": 1,
     "metadata": {},
     "output_type": "execute_result"
    }
   ],
   "source": [
    "def all_the_same(list):\n",
    "    return all(element == list[0] for element in list)\n",
    "\n",
    "list = ['Mary', 'Mary', 'Mary']\n",
    "all_the_same(list)\n",
    "            "
   ]
  },
  {
   "cell_type": "markdown",
   "id": "3a33a68a",
   "metadata": {},
   "source": [
    "Extra Challenge: Reverse a String\n",
    "str1 = \"the love is real\" Write a function called read_backwards that takes a string as an argument and reverses it. For example, the string above should return: \"real is love the\""
   ]
  },
  {
   "cell_type": "code",
   "execution_count": 2,
   "id": "bb56ea0c",
   "metadata": {},
   "outputs": [
    {
     "data": {
      "text/plain": [
       "'real is love the'"
      ]
     },
     "execution_count": 2,
     "metadata": {},
     "output_type": "execute_result"
    }
   ],
   "source": [
    "def read_backwards(string):\n",
    "    string = string.split(\" \")\n",
    "    reversed = ' '.join(string[::-1])\n",
    "    return reversed\n",
    "string = \"the love is real\" \n",
    "read_backwards(string)"
   ]
  }
 ],
 "metadata": {
  "kernelspec": {
   "display_name": "Python 3 (ipykernel)",
   "language": "python",
   "name": "python3"
  },
  "language_info": {
   "codemirror_mode": {
    "name": "ipython",
    "version": 3
   },
   "file_extension": ".py",
   "mimetype": "text/x-python",
   "name": "python",
   "nbconvert_exporter": "python",
   "pygments_lexer": "ipython3",
   "version": "3.9.12"
  }
 },
 "nbformat": 4,
 "nbformat_minor": 5
}
