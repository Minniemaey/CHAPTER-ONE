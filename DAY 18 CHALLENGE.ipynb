{
 "cells": [
  {
   "cell_type": "markdown",
   "id": "2f62a33e",
   "metadata": {},
   "source": [
    "Day 18: Any Number of Arguments\n",
    "Write a function called any_number that can receive any number of arguments (integers and floats) and return the average of those integers. If you pass 12, 90, 12, 34 as arguments your function should return 37.0 as average. If you pass 12, 90 your function should return 51.0 as average."
   ]
  },
  {
   "cell_type": "code",
   "execution_count": 1,
   "id": "e99ecdb2",
   "metadata": {},
   "outputs": [
    {
     "name": "stdout",
     "output_type": "stream",
     "text": [
      "Enter numbers: 12,90,12,34\n",
      "Average is 37.0\n"
     ]
    }
   ],
   "source": [
    "def any_number(*integers_floats):\n",
    "    sum = 0\n",
    "    for number in integers_floats:\n",
    "        sum += number\n",
    "        average = sum/len(integers_floats)\n",
    "    print(\"Average is\",average)\n",
    "    \n",
    "#list comprehension to take multiple numbers(arguments)    \n",
    "integers_floats = [float(number) for number in input(\"Enter numbers: \").split(\",\")] \n",
    "any_number(*integers_floats)\n",
    "    \n",
    "    "
   ]
  },
  {
   "cell_type": "markdown",
   "id": "95467839",
   "metadata": {},
   "source": [
    "Extra Challenge: Add and Reverse\n",
    "Write a function called add_reverse. This function takes two lists as argument and adds each corresponding number, and reverses the outcome. For example, if you pass [10, 12, 34] and [12, 56, 78]. Your code should return [112, 22, 68]. If the two lists are not of equal lengths, the code should return a message that \"the lists are not of equal lengths\"."
   ]
  },
  {
   "cell_type": "code",
   "execution_count": 2,
   "id": "91e556e6",
   "metadata": {},
   "outputs": [
    {
     "name": "stdout",
     "output_type": "stream",
     "text": [
      "[112, 68, 22]\n"
     ]
    }
   ],
   "source": [
    "def add_reverse(list1, list2):\n",
    "    if len(list1) != len(list2):\n",
    "        print(\"The lists are not of equal lengths\")\n",
    "    else:\n",
    "        result = [list1[i] + list2[i] for i in range(len(list1)) if len(list1) == len(list2)]\n",
    "        print(sorted(result, reverse = True))\n",
    "\n",
    "list1 = [10, 12, 34]\n",
    "list2 = [12, 56, 78]\n",
    "add_reverse(list1, list2)"
   ]
  },
  {
   "cell_type": "code",
   "execution_count": 3,
   "id": "eb45230a",
   "metadata": {
    "scrolled": true
   },
   "outputs": [
    {
     "name": "stdout",
     "output_type": "stream",
     "text": [
      "The lists are not of equal lengths\n"
     ]
    }
   ],
   "source": [
    "list1 = [10, 12, 34]\n",
    "list2 = [12, 56, 78, 45]\n",
    "add_reverse(list1, list2)"
   ]
  }
 ],
 "metadata": {
  "kernelspec": {
   "display_name": "Python 3 (ipykernel)",
   "language": "python",
   "name": "python3"
  },
  "language_info": {
   "codemirror_mode": {
    "name": "ipython",
    "version": 3
   },
   "file_extension": ".py",
   "mimetype": "text/x-python",
   "name": "python",
   "nbconvert_exporter": "python",
   "pygments_lexer": "ipython3",
   "version": "3.9.12"
  }
 },
 "nbformat": 4,
 "nbformat_minor": 5
}
