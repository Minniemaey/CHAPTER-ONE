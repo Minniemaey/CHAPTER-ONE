{
 "cells": [
  {
   "cell_type": "markdown",
   "id": "3caf548b",
   "metadata": {},
   "source": [
    "Day 34: Just Digits\n",
    "In this challenge, copy the text below and save it as a CSV file. Save it in the same folder as your Python file. Save it as\n",
    "python.csv. Write a function called just_digits that reads the text from the CSV file and returns only digit elements from the file. Your function should return 1991, 2, 200, 3, 2008 as a list of strings.\n",
    "“Python was released in 1991 for the first time. Python 2 was released in 2000 and introduced new features, such as list\n",
    "comprehensions and a cycle-detecting garbage collection system (in addition to reference counting). Python 3 was released in 2008 and was a major revision of the language that is not completely backward-compatible.”\n",
    "Source: Wikipedia"
   ]
  },
  {
   "cell_type": "code",
   "execution_count": 1,
   "id": "ed60a957",
   "metadata": {},
   "outputs": [],
   "source": [
    "import csv"
   ]
  },
  {
   "cell_type": "code",
   "execution_count": 3,
   "id": "32a4d88c",
   "metadata": {},
   "outputs": [
    {
     "name": "stdout",
     "output_type": "stream",
     "text": [
      "['\"Python was released in 1991 for the first time. Python 2 was released in 2000 and introduced new features, such as list\\ncomprehensions and a cycle-detecting garbage collection system (in addition to reference counting). Python 3 was released in 2008 and was a major revision of the language that is not completely backward-compatible.\"\\nSource: Wikipedia']\n",
      "\n",
      "\n",
      "['1991', '2', '2000', '3', '2008']\n"
     ]
    }
   ],
   "source": [
    "def just_digits():\n",
    "    python = open(\"python.csv\", \"r\")  #code to open csv file \n",
    "    python_text = csv.reader(python)  #code reads the file\n",
    "#list comprehension to convert the csv file rows to string list and splits each elements by the whitespace character\n",
    "    python_string = str([string for rows in python_text for string in rows]).strip().split(' ')\n",
    "    digits = [char for char in python_string if char.isdigit()]\n",
    "    print(' '.join(python_string).strip()) #checking to see the complete text\n",
    "    print('\\n')        #just to create a space before printing final result\n",
    "    print(digits)\n",
    "just_digits()"
   ]
  }
 ],
 "metadata": {
  "kernelspec": {
   "display_name": "Python 3 (ipykernel)",
   "language": "python",
   "name": "python3"
  },
  "language_info": {
   "codemirror_mode": {
    "name": "ipython",
    "version": 3
   },
   "file_extension": ".py",
   "mimetype": "text/x-python",
   "name": "python",
   "nbconvert_exporter": "python",
   "pygments_lexer": "ipython3",
   "version": "3.9.12"
  }
 },
 "nbformat": 4,
 "nbformat_minor": 5
}
