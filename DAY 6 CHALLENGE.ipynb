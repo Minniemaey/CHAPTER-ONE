{
 "cells": [
  {
   "cell_type": "markdown",
   "id": "3d56b113",
   "metadata": {},
   "source": [
    "Day 6: User Name Generator\n",
    "Write a function called user_name that generates a username from the user’s email. The code should ask the user to input an\n",
    "email and the code should return everything before the @ sign as their user name. For example, if someone enters ben@gmail.com, the code should return ben as their username."
   ]
  },
  {
   "cell_type": "code",
   "execution_count": 1,
   "id": "4f2897ed",
   "metadata": {
    "scrolled": true
   },
   "outputs": [
    {
     "name": "stdout",
     "output_type": "stream",
     "text": [
      "Enter your email address:\tben@gmail.com\n",
      "Your username is ben\n"
     ]
    }
   ],
   "source": [
    "#creating the function user_name\n",
    "def user_name():\n",
    "    user_email = input(\"Enter your email address:\\t\")\n",
    "#rsplit(@,1) means the user-email should be split from the right once (1) at '@', so the resulting string return 2 items  \n",
    "    username = user_email.rsplit('@', 1)\n",
    "    print(\"Your username is\",username[0])  #the left portion of the split username is index 0\n",
    "user_name()\n",
    "    \n",
    "\n"
   ]
  },
  {
   "cell_type": "markdown",
   "id": "3681b082",
   "metadata": {},
   "source": [
    "Extra Challenge: Zero Both Ends\n",
    "Write a function called zeroed code that takes a list of numbers as an argument. The code should zero (0) the first and the last\n",
    "number in the list. For example, if the input is [2, 5, 7, 8, 9], your code should return [0, 5, 7, 8, 0]."
   ]
  },
  {
   "cell_type": "code",
   "execution_count": 2,
   "id": "2f79e1b1",
   "metadata": {},
   "outputs": [
    {
     "name": "stdout",
     "output_type": "stream",
     "text": [
      "Original list = [2, 5, 7, 8, 9]\n",
      "New list = [0, 5, 7, 8, 0]\n"
     ]
    }
   ],
   "source": [
    "#program to zero both ends of a list of numbers\n",
    "#defining the function zeroed_code\n",
    "def zeroed_code(number_list):\n",
    "    number_list[0] = 0\n",
    "    number_list[-1] = 0\n",
    "    print('New list =',number_list)\n",
    "number_list = [2, 5, 7, 8, 9]\n",
    "print(\"Original list =\",number_list)\n",
    "zeroed_code(number_list)"
   ]
  }
 ],
 "metadata": {
  "kernelspec": {
   "display_name": "Python 3 (ipykernel)",
   "language": "python",
   "name": "python3"
  },
  "language_info": {
   "codemirror_mode": {
    "name": "ipython",
    "version": 3
   },
   "file_extension": ".py",
   "mimetype": "text/x-python",
   "name": "python",
   "nbconvert_exporter": "python",
   "pygments_lexer": "ipython3",
   "version": "3.9.12"
  }
 },
 "nbformat": 4,
 "nbformat_minor": 5
}
