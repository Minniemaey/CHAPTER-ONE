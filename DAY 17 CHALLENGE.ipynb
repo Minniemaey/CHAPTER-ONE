{
 "cells": [
  {
   "cell_type": "markdown",
   "id": "79fa65bb",
   "metadata": {},
   "source": [
    "Day 17: User Name Generator\n",
    "Write a function called user_name, that creates a username for the user. The function should ask a user to input their name.\n",
    "The function should then reverse the name and attach a randomly issued number between 0 – 9 at the end of the name. The function should return the username."
   ]
  },
  {
   "cell_type": "code",
   "execution_count": 1,
   "id": "47f5210d",
   "metadata": {},
   "outputs": [],
   "source": [
    "import random"
   ]
  },
  {
   "cell_type": "code",
   "execution_count": 2,
   "id": "b213bb8a",
   "metadata": {},
   "outputs": [
    {
     "name": "stdout",
     "output_type": "stream",
     "text": [
      "Enter your name: Ben Mary\n",
      "Your username is Yramneb6\n"
     ]
    }
   ],
   "source": [
    "#creating the function user_name\n",
    "def user_name():\n",
    "    name = input(\"Enter your name: \").replace(\" \", \"\") #replace() removes space that maybe present in name given by user\n",
    "    username = ''.join(reversed(name)) + str(random.randint(0,9))\n",
    "    print(\"Your username is\",username.capitalize())\n",
    "user_name()"
   ]
  },
  {
   "cell_type": "markdown",
   "id": "62e10ab0",
   "metadata": {},
   "source": [
    "Extra Challenge: Sort by Length\n",
    "names = [ \"Peter\", \"Jon\", \"Andrew\"] Write a function called sort_length that takes a list of strings as an argument, and sorts the strings in ascending order according to their length. For example, the list above should return: ['Jon', 'Peter', 'Andrew']\n",
    "Do not use the built-in sort functions"
   ]
  },
  {
   "cell_type": "code",
   "execution_count": 3,
   "id": "757745ef",
   "metadata": {},
   "outputs": [
    {
     "name": "stdout",
     "output_type": "stream",
     "text": [
      "['Jon', 'Peter', 'Andrew']\n"
     ]
    }
   ],
   "source": [
    "def sort_length(names):\n",
    "    for i in range(0, len(names)-1 ):\n",
    "        for j in range(i+1, len(names)):\n",
    "            if (len(names[i]) > len(names[j])):\n",
    "                names[i],names[j] = names[j],names[i]\n",
    "    print(names)\n",
    "names = [ \"Peter\", \"Jon\", \"Andrew\"]\n",
    "sort_length(names)"
   ]
  }
 ],
 "metadata": {
  "kernelspec": {
   "display_name": "Python 3 (ipykernel)",
   "language": "python",
   "name": "python3"
  },
  "language_info": {
   "codemirror_mode": {
    "name": "ipython",
    "version": 3
   },
   "file_extension": ".py",
   "mimetype": "text/x-python",
   "name": "python",
   "nbconvert_exporter": "python",
   "pygments_lexer": "ipython3",
   "version": "3.9.12"
  }
 },
 "nbformat": 4,
 "nbformat_minor": 5
}
