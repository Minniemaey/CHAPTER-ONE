{
 "cells": [
  {
   "cell_type": "markdown",
   "id": "207d9fdf",
   "metadata": {},
   "source": [
    "Create a function called my_discount. The function takes no arguments but asks the user to input the price and the\n",
    "discount (percentage) of the product. Once the user inputs the price and discount, it calculates the price after the discount.\n",
    "The function should return the price after the discount. For example, if the user enters 150 as price and 15% as the discount,\n",
    "your function should return 127.5."
   ]
  },
  {
   "cell_type": "code",
   "execution_count": 1,
   "id": "0e896433",
   "metadata": {},
   "outputs": [
    {
     "name": "stdout",
     "output_type": "stream",
     "text": [
      "Enter price of the product: $150\n",
      "Enter discount rate on the product: 15\n",
      "The price of this product after discount is $127.50\n"
     ]
    }
   ],
   "source": [
    "#creating function my_discount\n",
    "def my_discount():\n",
    "    Price = float(input(\"Enter price of the product: $\"))\n",
    "    Discount = float(input(\"Enter discount rate on the product: \"))\n",
    "    Discounted_price = Price - (Price * Discount/100)\n",
    "    print(\"The price of this product after discount is ${:.2f}\".format(Discounted_price))\n",
    "#{:.2f}.format(discounted price) is a placeholder to specify I want the discounted price calculated to 2 decimal places\n",
    "my_discount()"
   ]
  },
  {
   "cell_type": "markdown",
   "id": "0e65bc2e",
   "metadata": {},
   "source": [
    "Extra Challenge: Tuple of Student Sex"
   ]
  },
  {
   "cell_type": "markdown",
   "id": "1d7f2711",
   "metadata": {},
   "source": [
    "You work for a school and your boss wants to know how many female and male students are enrolled in the school. The school\n",
    "has saved the students in a list. Your task is to write a code that will count how many males and females are in the list. Here is a list below:\n",
    "students = ['Male', 'Female', 'female', 'male', 'male', 'male','female', 'male', 'Female', 'Male', 'Female', 'Male', 'female']\n",
    "Your code should return a list of tuples. The list above should return: [(‘Male’,7), (‘female’,6)]\n"
   ]
  },
  {
   "cell_type": "code",
   "execution_count": 2,
   "id": "195ea970",
   "metadata": {},
   "outputs": [
    {
     "name": "stdout",
     "output_type": "stream",
     "text": [
      "[('Male', 7), ('female', 6)]\n"
     ]
    }
   ],
   "source": [
    "#program to count number of males and females enrolled in a school\n",
    "#defining the function num_on_roll to count male and female students\n",
    "def num_on_roll(students):\n",
    "    male_list = []\n",
    "    m_count = 0\n",
    "    for x in students:\n",
    "        if x == 'male' or x == 'Male':\n",
    "            m_count = m_count + 1\n",
    "            male_list.append(x)\n",
    "    female_list = []\n",
    "    f_count = 0\n",
    "    for x in students:\n",
    "        if x == 'female' or x == 'Female':\n",
    "            f_count = f_count + 1\n",
    "            female_list.append(x)\n",
    "    print([(\"Male\", m_count),(\"female\", f_count)])\n",
    "          \n",
    "students = ['Male', 'Female', 'female', 'male', 'male', 'male','female', 'male', 'Female', 'Male', 'Female', 'Male', 'female']\n",
    "num_on_roll(students)          "
   ]
  },
  {
   "cell_type": "code",
   "execution_count": 3,
   "id": "879180ac",
   "metadata": {},
   "outputs": [
    {
     "name": "stdout",
     "output_type": "stream",
     "text": [
      "[('Male', 7), ('female', 6)]\n"
     ]
    }
   ],
   "source": [
    "#alternatively\n",
    "def num_on_roll(students):\n",
    "    male_list = [] \n",
    "    for x in students:\n",
    "        if x == 'male' or x == 'Male':\n",
    "            male_list.append(x)\n",
    "    female_list = []\n",
    "    for x in students:\n",
    "        if x == 'female' or x == 'Female':\n",
    "            female_list.append(x)\n",
    "    print([(\"Male\", len(male_list)),(\"female\", len(female_list))])\n",
    "\n",
    "students = ['Male', 'Female', 'female', 'male', 'male', 'male','female', 'male', 'Female', 'Male', \n",
    "            'Female', 'Male', 'female']\n",
    "num_on_roll(students)"
   ]
  },
  {
   "cell_type": "code",
   "execution_count": null,
   "id": "a6489042",
   "metadata": {},
   "outputs": [],
   "source": []
  }
 ],
 "metadata": {
  "kernelspec": {
   "display_name": "Python 3 (ipykernel)",
   "language": "python",
   "name": "python3"
  },
  "language_info": {
   "codemirror_mode": {
    "name": "ipython",
    "version": 3
   },
   "file_extension": ".py",
   "mimetype": "text/x-python",
   "name": "python",
   "nbconvert_exporter": "python",
   "pygments_lexer": "ipython3",
   "version": "3.9.12"
  }
 },
 "nbformat": 4,
 "nbformat_minor": 5
}
