{
 "cells": [
  {
   "cell_type": "markdown",
   "id": "db6680f9",
   "metadata": {},
   "source": [
    "Day 15: Same in Reverse\n",
    "Write a function called same_in_reverse that takes a string and checks if the string reads the same in reverse. If it is the\n",
    "same, the code should return True if not, it should return False. For example, ‘dad’ should return True, because it reads the same in reverse."
   ]
  },
  {
   "cell_type": "code",
   "execution_count": 1,
   "id": "79b0783d",
   "metadata": {},
   "outputs": [
    {
     "data": {
      "text/plain": [
       "True"
      ]
     },
     "execution_count": 1,
     "metadata": {},
     "output_type": "execute_result"
    }
   ],
   "source": [
    "def same_in_reverse(string):\n",
    "    if string == string[::-1]:\n",
    "        return True\n",
    "    else:\n",
    "        return False\n",
    "string = 'dad'\n",
    "same_in_reverse(string)\n"
   ]
  },
  {
   "cell_type": "code",
   "execution_count": 2,
   "id": "12c3ea88",
   "metadata": {},
   "outputs": [
    {
     "data": {
      "text/plain": [
       "True"
      ]
     },
     "execution_count": 2,
     "metadata": {},
     "output_type": "execute_result"
    }
   ],
   "source": [
    "def same_in_reverse(string):\n",
    "    rev_string = ''.join(reversed(string)) #reverse() splits the string so join() is used to convert back to str format\n",
    "    if string == rev_string:\n",
    "        return True\n",
    "    else:\n",
    "        return False\n",
    "string = 'dad'\n",
    "same_in_reverse(string)\n"
   ]
  },
  {
   "cell_type": "markdown",
   "id": "5b735a84",
   "metadata": {},
   "source": [
    "Extra Challenge: What’s My Age?\n",
    "Write a function called your_age. This function asks a student to enter their name and then it returns their age. For example, if a user enters Peter as their name, your function should return, ‘Hi, Peter, you are 27 years old. This function reads data from the database (dictionary below). If the name is not in the dictionary, your code should tell the user that their name is not in the dictionary, and ask them for their age. Your code should then add the name and age to the dictionary of names_age below. Once added your code should return to the user ‘Hi, (added name), you are (added age) years old’. Remember to convert the input from user to lowercase letters names_age = {\"jane\": 23, \"kerry\": 45, \"tim\": 34, “peter\": 27}"
   ]
  },
  {
   "cell_type": "code",
   "execution_count": 3,
   "id": "59ef76cb",
   "metadata": {},
   "outputs": [
    {
     "name": "stdout",
     "output_type": "stream",
     "text": [
      "Enter your name: PETER\n",
      "Hi, Peter, you are 27years old\n"
     ]
    }
   ],
   "source": [
    "def your_age():\n",
    "    names_age = {\"jane\": 23, \"kerry\": 45, \"tim\": 34, \"peter\": 27}\n",
    "    for name, age in list(names_age.items()):\n",
    "        if name == Name.lower():\n",
    "            print(\"Hi, {},\".format(Name.capitalize()), \"you are {}\".format(age)+ \"years old\")\n",
    "        if Name.lower() not in names_age:\n",
    "            age = int(input(\"Enter your age in years: \"))\n",
    "            names_age[Name] = \"age\"\n",
    "            print(\"Hi, {},\".format(Name.capitalize()), \"you are {}\".format(age)+ \"years old\")\n",
    "Name = input(\"Enter your name: \")\n",
    "your_age()                 "
   ]
  },
  {
   "cell_type": "code",
   "execution_count": null,
   "id": "e202004b",
   "metadata": {},
   "outputs": [],
   "source": []
  },
  {
   "cell_type": "code",
   "execution_count": null,
   "id": "d93ca7d1",
   "metadata": {},
   "outputs": [],
   "source": []
  }
 ],
 "metadata": {
  "kernelspec": {
   "display_name": "Python 3 (ipykernel)",
   "language": "python",
   "name": "python3"
  },
  "language_info": {
   "codemirror_mode": {
    "name": "ipython",
    "version": 3
   },
   "file_extension": ".py",
   "mimetype": "text/x-python",
   "name": "python",
   "nbconvert_exporter": "python",
   "pygments_lexer": "ipython3",
   "version": "3.9.12"
  }
 },
 "nbformat": 4,
 "nbformat_minor": 5
}
