{
 "cells": [
  {
   "cell_type": "markdown",
   "id": "84ea4733",
   "metadata": {},
   "source": [
    "Day 16: Sum the List\n",
    "Write a function called sum_list with one parameter that takes a nested list of integers as an argument and returns the sum of the integers. For example, if you pass [[2, 4, 5, 6], [2, 3, 5, 6]] as an argument your function should return a sum of 33.\n"
   ]
  },
  {
   "cell_type": "code",
   "execution_count": 1,
   "id": "705d7c09",
   "metadata": {},
   "outputs": [
    {
     "data": {
      "text/plain": [
       "33"
      ]
     },
     "execution_count": 1,
     "metadata": {},
     "output_type": "execute_result"
    }
   ],
   "source": [
    "def sum_list(nested_list):\n",
    "    list = [num for sublist in nested_list for num in sublist]\n",
    "    return sum(list)\n",
    "nested_list = [[2, 4, 5, 6], [2, 3, 5, 6]]\n",
    "sum_list(nested_list)"
   ]
  },
  {
   "cell_type": "markdown",
   "id": "de5457a9",
   "metadata": {},
   "source": [
    "Extra Challenge: Unpack A Nest\n",
    "Nested_list = [[12, 34, 56, 67], [34, 68, 78]] Write a code that generates a list of the following numbers from the nested list above – 34, 67, 78. Your output should be another list: [34, 67, 78]. The list output should not have duplicates."
   ]
  },
  {
   "cell_type": "code",
   "execution_count": 2,
   "id": "4322581c",
   "metadata": {},
   "outputs": [
    {
     "data": {
      "text/plain": [
       "[34, 67, 78]"
      ]
     },
     "execution_count": 2,
     "metadata": {},
     "output_type": "execute_result"
    }
   ],
   "source": [
    "def unpack_list(nested_list):\n",
    "    list = set([num for sublist in nested_list for num in sublist if num == 34 or num == 67 or num == 78])\n",
    "    return [*list] #[*] signifies the format to print the list\n",
    "nested_list = [[12, 34, 56, 67], [34, 68, 78]]\n",
    "unpack_list(nested_list)"
   ]
  }
 ],
 "metadata": {
  "kernelspec": {
   "display_name": "Python 3 (ipykernel)",
   "language": "python",
   "name": "python3"
  },
  "language_info": {
   "codemirror_mode": {
    "name": "ipython",
    "version": 3
   },
   "file_extension": ".py",
   "mimetype": "text/x-python",
   "name": "python",
   "nbconvert_exporter": "python",
   "pygments_lexer": "ipython3",
   "version": "3.9.12"
  }
 },
 "nbformat": 4,
 "nbformat_minor": 5
}
