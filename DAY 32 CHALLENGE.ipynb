{
 "cells": [
  {
   "cell_type": "markdown",
   "id": "a4af78b2",
   "metadata": {},
   "source": [
    "Day 32: Password Validator\n",
    "Write a function called password_validator. The function asks the user to enter a password. A valid password should have\n",
    "at least one upper letter, one lower letter, and one number. It should not be less than 8 characters long. When the user enters a password, the function should check if the password is valid. If the password is valid, the function should return the valid password. If the password is not valid, the function should tell the users the errors in the password and prompt the user to enter another password. The code should only stop once the user enters a valid password. (use while loop)."
   ]
  },
  {
   "cell_type": "code",
   "execution_count": 1,
   "id": "1127d5b7",
   "metadata": {},
   "outputs": [
    {
     "name": "stdout",
     "output_type": "stream",
     "text": [
      "Enter a password: Adfhrugsdh84\n",
      "Password is valid\n"
     ]
    }
   ],
   "source": [
    "\n",
    "def password_validator():\n",
    "    while True:\n",
    "        Password = input(\"Enter a password: \")\n",
    "        if len(Password) < 8:\n",
    "            print(\"Password should be atleast 8 characters long\")\n",
    "        elif not any(character.isupper() for character in Password): \n",
    "            print(\"Password should have atleast one capital letter\")\n",
    "        elif not any(character.islower() for character in Password):\n",
    "            print(\"Password should have atleast one smallcase letter\")\n",
    "        elif not any(character.isdigit() for character in Password):\n",
    "            print(\"Password should have atleast one number\")\n",
    "        else:\n",
    "            print(\"Password is valid\")\n",
    "            break\n",
    "password_validator()\n"
   ]
  },
  {
   "cell_type": "markdown",
   "id": "953e436a",
   "metadata": {},
   "source": [
    "Extra Challenge: Valid Email\n",
    "emails = ['ben@mail.com', 'john@mail.cm', 'kenny@gmail.com', '@list.com' ]\n",
    "Write a function called email_validator that takes a list of emails and checks if the emails are valid. The function returns a\n",
    "list of only valid emails. A valid email address will have the following - @ symbol (if the @ sign is at the beginning of the\n",
    "name, the email is invalid. If there are more than one @signs, the email is invalid. All valid emails must have a dot com at the\n",
    "end (.com), if not, the email is invalid. For example, the list of emails above should output the following as valid emails:\n",
    "['ben@mail.com', 'kenny@gmail.com']\n",
    "If no emails in the list are valid, the function should return ‘all emails are invalid’"
   ]
  },
  {
   "cell_type": "code",
   "execution_count": 2,
   "id": "92393863",
   "metadata": {},
   "outputs": [
    {
     "name": "stdout",
     "output_type": "stream",
     "text": [
      "['ben@mail.com', 'kenny@gmail.com']\n"
     ]
    }
   ],
   "source": [
    "import regex as re\n",
    "def email_validator(emails):\n",
    "    config = r'\\b[A-Za-z0-9._%+-]+@[A-Za-z0-9.-]+\\.com' #regex specifying the email formatting to be accepted\n",
    "    valid_emails = [email for email in emails if(re.fullmatch(config, email))]\n",
    "    if not valid_emails:\n",
    "        print(\"All emails are invalid\")\n",
    "    else:\n",
    "        print(valid_emails)\n",
    "        \n",
    "emails = ['ben@mail.com', 'john@mail.cm', 'kenny@gmail.com', '@list.com' ]\n",
    "email_validator(emails)"
   ]
  },
  {
   "cell_type": "code",
   "execution_count": 3,
   "id": "a6c1cdf2",
   "metadata": {},
   "outputs": [
    {
     "name": "stdout",
     "output_type": "stream",
     "text": [
      "All emails are invalid\n"
     ]
    }
   ],
   "source": [
    "#alternatively\n",
    "def email_validator(emails):\n",
    "    valid_emails = []\n",
    "    config = r'\\b[A-Za-z0-9._%+-]+@[A-Za-z0-9.-]+\\.com'\n",
    "    for email in emails:\n",
    "        if(re.fullmatch(config, email)):\n",
    "            valid_emails.append(email)\n",
    "    if valid_emails:\n",
    "        print(valid_emails)\n",
    "    if not valid_emails:\n",
    "        print(\"All emails are invalid\")\n",
    "    \n",
    "emails = ['ben@mail.cm', 'john@mail.cm', 'kenny@gmail.cm', '@list.com' ]\n",
    "email_validator(emails)"
   ]
  }
 ],
 "metadata": {
  "kernelspec": {
   "display_name": "Python 3 (ipykernel)",
   "language": "python",
   "name": "python3"
  },
  "language_info": {
   "codemirror_mode": {
    "name": "ipython",
    "version": 3
   },
   "file_extension": ".py",
   "mimetype": "text/x-python",
   "name": "python",
   "nbconvert_exporter": "python",
   "pygments_lexer": "ipython3",
   "version": "3.9.12"
  }
 },
 "nbformat": 4,
 "nbformat_minor": 5
}
