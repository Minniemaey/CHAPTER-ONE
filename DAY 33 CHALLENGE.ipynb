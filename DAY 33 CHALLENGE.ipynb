{
 "cells": [
  {
   "cell_type": "markdown",
   "id": "2cf49334",
   "metadata": {},
   "source": [
    "Write a function called inter_section that takes two lists and finds the intersection (the elements that are present in both lists). The function should return a tuple of intersections. Use list comprehension in your solution. Use the lists below. Your function should return (30, 65, 80).\n",
    "list1 = [20, 30, 60, 65, 75, 80, 85]\n",
    "list2 = [ 42, 30, 80, 65, 68, 88, 95]"
   ]
  },
  {
   "cell_type": "code",
   "execution_count": 1,
   "id": "d3cce856",
   "metadata": {},
   "outputs": [
    {
     "name": "stdout",
     "output_type": "stream",
     "text": [
      "(30, 65, 80)\n"
     ]
    }
   ],
   "source": [
    "def inter_section(list1, list2):\n",
    "    and_list = [num for num in list1 and list2 if num in list1 and list2]\n",
    "    and_list = tuple(sorted(and_list))\n",
    "    print(and_list)\n",
    "    \n",
    "list1 = [20, 30, 60, 65, 75, 80, 85]\n",
    "list2 = [ 42, 30, 80, 65, 68, 88, 95]\n",
    "inter_section(list1, list2)    "
   ]
  },
  {
   "cell_type": "markdown",
   "id": "f49d3994",
   "metadata": {},
   "source": [
    "Extra Challenge: Set or list\n",
    "You want to implement a code that will search for a number in a range. You have a decision to make as to whether to store the\n",
    "number in a set or a list. Your decision will be based on time. You have to pick a data type that executes faster. You have a range and you can either store it in a set or a list depending on which one executes faster when you are searching\n",
    "for a number in the range. See below:\n",
    "a = range(10000000)\n",
    "x = set(a)\n",
    "y = list(a)\n",
    "Let’s say you are looking for a number 9999999 in the range above. Search for this number in the list and the set. Your challenge is to find which code executes faster. You will pick the one that executes quicker, lists, or sets. Run the two searches and time them."
   ]
  },
  {
   "cell_type": "code",
   "execution_count": 2,
   "id": "37fa47ef",
   "metadata": {},
   "outputs": [],
   "source": [
    "import time"
   ]
  },
  {
   "cell_type": "code",
   "execution_count": 3,
   "id": "79491856",
   "metadata": {},
   "outputs": [
    {
     "name": "stdout",
     "output_type": "stream",
     "text": [
      "Time taken for x is : 1.8826594352722168\n",
      "Time taken for y is : 1.5306847095489502\n",
      "y code executes faster\n"
     ]
    }
   ],
   "source": [
    "a = range(10000000)\n",
    "x = set(a)\n",
    "y = list(a)\n",
    "\n",
    "start_time = time.time()\n",
    "x = set(a)\n",
    "for num in x:\n",
    "    if num == 9999999:\n",
    "        break        \n",
    "end_time = time.time()\n",
    "xtime = (end_time - start_time)\n",
    "print('Time taken for x is : {}'.format(xtime))\n",
    "\n",
    "start_time = time.time()\n",
    "y = list(a)\n",
    "for num in y:\n",
    "    if num == 9999999:\n",
    "        break\n",
    "end_time = time.time()\n",
    "ytime = (end_time - start_time)\n",
    "print('Time taken for y is : {}'.format(ytime))\n",
    "\n",
    "Duration_x = xtime\n",
    "Duration_y = ytime\n",
    "print(\"x code executes faster\") if Duration_x < Duration_y else print(\"y code executes faster\")"
   ]
  }
 ],
 "metadata": {
  "kernelspec": {
   "display_name": "Python 3 (ipykernel)",
   "language": "python",
   "name": "python3"
  },
  "language_info": {
   "codemirror_mode": {
    "name": "ipython",
    "version": 3
   },
   "file_extension": ".py",
   "mimetype": "text/x-python",
   "name": "python",
   "nbconvert_exporter": "python",
   "pygments_lexer": "ipython3",
   "version": "3.9.12"
  }
 },
 "nbformat": 4,
 "nbformat_minor": 5
}
