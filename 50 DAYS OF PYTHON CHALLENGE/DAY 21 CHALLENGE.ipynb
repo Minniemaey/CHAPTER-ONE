{
 "cells": [
  {
   "cell_type": "markdown",
   "id": "e0e25ff8",
   "metadata": {},
   "source": [
    "Day 21: List of Tuples\n",
    "Write a function called make_tuples that takes two lists, equal lists, and combines them into a list of tuples. For example, if list a is [1,2,3,4] and list b is [5,6,7,8], your function should return [(1,5), (2,6), (3,7), (4,8)]."
   ]
  },
  {
   "cell_type": "code",
   "execution_count": 1,
   "id": "77f4f3bc",
   "metadata": {},
   "outputs": [
    {
     "name": "stdout",
     "output_type": "stream",
     "text": [
      "[(1, 5), (2, 6), (3, 7), (4, 8)]\n"
     ]
    }
   ],
   "source": [
    "def make_tuples(list_a, list_b):\n",
    "    if len(list_a) == len(list_b):\n",
    "        tuple = list(zip(list_a, list_b))\n",
    "        print(tuple)\n",
    "list_a = [1,2,3,4]\n",
    "list_b = [5,6,7,8]\n",
    "make_tuples(list_a, list_b)\n"
   ]
  },
  {
   "cell_type": "markdown",
   "id": "3eb238ea",
   "metadata": {},
   "source": [
    "Extra Challenge: Even Number or Average\n",
    "Write a function called even_or_average that ask a user to input five numbers. Once the user is done, the code should return the largest even number in the inputted numbers. If there is no even number in the list, the code should return the average of all the five numbers."
   ]
  },
  {
   "cell_type": "code",
   "execution_count": 2,
   "id": "936cb0ac",
   "metadata": {},
   "outputs": [
    {
     "name": "stdout",
     "output_type": "stream",
     "text": [
      "25\n",
      "27\n",
      "33\n",
      "41\n",
      "53\n"
     ]
    },
    {
     "data": {
      "text/plain": [
       "35.8"
      ]
     },
     "execution_count": 2,
     "metadata": {},
     "output_type": "execute_result"
    }
   ],
   "source": [
    "def even_or_average():\n",
    "    num_length = 5\n",
    "    num_list = [int(input()) for _ in range(num_length)]\n",
    "    even = [num for num in num_list if num%2==0]\n",
    "    for num in range(len(even)):\n",
    "        max_even = max(list(even))\n",
    "        return max_even\n",
    "    else:\n",
    "        average = (sum(num_list)/len(num_list))\n",
    "        return(average)\n",
    "            \n",
    "even_or_average()"
   ]
  }
 ],
 "metadata": {
  "kernelspec": {
   "display_name": "Python 3 (ipykernel)",
   "language": "python",
   "name": "python3"
  },
  "language_info": {
   "codemirror_mode": {
    "name": "ipython",
    "version": 3
   },
   "file_extension": ".py",
   "mimetype": "text/x-python",
   "name": "python",
   "nbconvert_exporter": "python",
   "pygments_lexer": "ipython3",
   "version": "3.9.12"
  }
 },
 "nbformat": 4,
 "nbformat_minor": 5
}
