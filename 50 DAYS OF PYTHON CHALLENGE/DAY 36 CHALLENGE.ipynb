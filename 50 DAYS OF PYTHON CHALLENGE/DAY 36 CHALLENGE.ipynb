{
 "cells": [
  {
   "cell_type": "markdown",
   "id": "e66cf08f",
   "metadata": {},
   "source": [
    "Day 36: Count String\n",
    "Write a function called count that takes one argument a string, and returns a dictionary of how many times each element appears in the string. For example, ‘hello’ should return: {‘h’:1,’e’: 1,’l’:2, ‘o’:1}."
   ]
  },
  {
   "cell_type": "code",
   "execution_count": 1,
   "id": "f2c79891",
   "metadata": {},
   "outputs": [
    {
     "name": "stdout",
     "output_type": "stream",
     "text": [
      "Enter string: hello\n",
      "{'h': 1, 'e': 1, 'l': 2, 'o': 1}\n"
     ]
    }
   ],
   "source": [
    "def count(string):\n",
    "    str_count = {}\n",
    "    for character in string:\n",
    "        str_count[character] = string.count(character)\n",
    "    print(str_count)\n",
    "string = input(\"Enter string: \")\n",
    "count(string)\n",
    "        "
   ]
  }
 ],
 "metadata": {
  "kernelspec": {
   "display_name": "Python 3 (ipykernel)",
   "language": "python",
   "name": "python3"
  },
  "language_info": {
   "codemirror_mode": {
    "name": "ipython",
    "version": 3
   },
   "file_extension": ".py",
   "mimetype": "text/x-python",
   "name": "python",
   "nbconvert_exporter": "python",
   "pygments_lexer": "ipython3",
   "version": "3.9.12"
  }
 },
 "nbformat": 4,
 "nbformat_minor": 5
}
