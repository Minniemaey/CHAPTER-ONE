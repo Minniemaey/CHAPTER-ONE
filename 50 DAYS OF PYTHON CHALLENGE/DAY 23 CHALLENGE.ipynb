{
 "cells": [
  {
   "cell_type": "markdown",
   "id": "ac3f5328",
   "metadata": {},
   "source": [
    "Day 23: Simple Calculator\n",
    "Create a simple calculator. The calculator should be able to perform basic math operations, add, subtract, divide and multiply. The calculator should take input from users. The calculator should be able to handle ZeroDivisionError, NameError, and ValueError."
   ]
  },
  {
   "cell_type": "code",
   "execution_count": 1,
   "id": "d00f47f0",
   "metadata": {
    "scrolled": true
   },
   "outputs": [
    {
     "name": "stdout",
     "output_type": "stream",
     "text": [
      "Enter number: 2\n",
      "Math operation to carry out (+ - / *): /\n",
      "Enter number: 0\n",
      "Math error\n"
     ]
    }
   ],
   "source": [
    "def calculate():\n",
    "    while True:\n",
    "        try:\n",
    "            num_1 = float(input('Enter number: '))\n",
    "            operation = input('Math operation to carry out (+ - / *): ')\n",
    "            num_2 = float(input('Enter number: '))\n",
    "\n",
    "            break      \n",
    "        except ValueError and NameError and ZeroDivisionError:       \n",
    "            print('Enter a valid number')\n",
    "    while True:\n",
    "        try:\n",
    "            if operation == '+':\n",
    "                print('{} + {} = '.format(num_1, num_2),num_1 + num_2)\n",
    "\n",
    "            elif operation == '-':\n",
    "                print('{} - {} = '.format(num_1, num_2),num_1 - num_2)\n",
    "\n",
    "            elif operation == '*':\n",
    "                print('{} * {} = '.format(num_1, num_2),num_1 * num_2)\n",
    "\n",
    "            elif operation == '/':\n",
    "                if num_2 != 0:\n",
    "                    print('{} / {} = '.format(num_1, num_2),num_1 / num_2) \n",
    "                else:\n",
    "                    print ('Math error')\n",
    "                    break\n",
    "        except ValueError and ZeroDivisionError:\n",
    "            print(\"Math error\")\n",
    "            \n",
    "calculate()"
   ]
  },
  {
   "cell_type": "code",
   "execution_count": 3,
   "id": "f64cef54",
   "metadata": {},
   "outputs": [
    {
     "name": "stdout",
     "output_type": "stream",
     "text": [
      "Enter number: 2\n",
      "Math operation to carry out (+ - / *): /\n",
      "Enter number: 0\n",
      "2.0 / 0.0 = 0. 2.0 is not divisible by 0.0\n"
     ]
    }
   ],
   "source": [
    "def calculate():\n",
    "    while True:\n",
    "        try:\n",
    "            num_1 = float(input('Enter number: '))\n",
    "            operation = input('Math operation to carry out (+ - / *): ')\n",
    "            num_2 = float(input('Enter number: '))\n",
    "            break      \n",
    "        except ValueError and NameError:       \n",
    "            print('Enter a valid number')\n",
    "    \n",
    "    if operation == '+':\n",
    "        print('{} + {} = '.format(num_1, num_2),num_1 + num_2)\n",
    "\n",
    "    elif operation == '-':\n",
    "        print('{} - {} = '.format(num_1, num_2),num_1 - num_2)\n",
    "\n",
    "    elif operation == '*':\n",
    "        print('{} * {} = '.format(num_1, num_2),num_1 * num_2)\n",
    "\n",
    "    elif operation == '/':\n",
    "        try:\n",
    "            print('{} / {} = '.format(num_1, num_2),num_1 / num_2) \n",
    "        except ZeroDivisionError:\n",
    "            print('{} / {} = 0.'.format(num_1, num_2), num_1,'is not divisible by',num_2)\n",
    "            \n",
    "        \n",
    "calculate()"
   ]
  },
  {
   "cell_type": "code",
   "execution_count": 5,
   "id": "7c6a3216",
   "metadata": {
    "scrolled": true
   },
   "outputs": [
    {
     "name": "stdout",
     "output_type": "stream",
     "text": [
      "Enter number: 45\n",
      "Math operation to carry out (+ - / *): *\n",
      "Enter number: 5\n",
      "45 * 5 =  225\n"
     ]
    }
   ],
   "source": [
    "def calculate():\n",
    "    while True:\n",
    "        try:\n",
    "            num_1 = int(input('Enter number: '))\n",
    "            operation = input('Math operation to carry out (+ - / *): ')\n",
    "            num_2 = int(input('Enter number: '))\n",
    "\n",
    "            break      \n",
    "        except ValueError and NameError and ZeroDivisionError:       \n",
    "            print('Enter a valid number')\n",
    "    while True:\n",
    "        try:\n",
    "            if operation == '+':\n",
    "                print('{} + {} = '.format(num_1, num_2),num_1 + num_2)\n",
    "\n",
    "            elif operation == '-':\n",
    "                print('{} - {} = '.format(num_1, num_2),num_1 - num_2)\n",
    "\n",
    "            elif operation == '*':\n",
    "                print('{} * {} = '.format(num_1, num_2),num_1 * num_2)\n",
    "\n",
    "            elif operation == '/':\n",
    "                try:\n",
    "                    print('{} / {} = '.format(num_1, num_2),num_1 / num_2) \n",
    "                except ZeroDivisionError:\n",
    "                    print('{} / {} = 0'.format(num_1, num_2))\n",
    "            break\n",
    "        except ValueError and NameError and ZeroDivisionError:\n",
    "            print(\"Math error\")\n",
    "            \n",
    "calculate()"
   ]
  },
  {
   "cell_type": "markdown",
   "id": "4feaa30d",
   "metadata": {},
   "source": [
    "Extra Challenge: Multiply Words\n",
    "s = \"love live and laugh\"\n",
    "Write a function called multiply_words that takes a string as an argument and multiplies the length of each word in the string by the length of other words in the string. For example, the string above should return 240 - love (4) live (4) and (3) laugh (5). However, your function should only multiply words will all lowercase letters. If a word has one upper case letter, it should be ignored. For example, the following string: s = \"Hate war love Peace\" should return 12 – war (3) love (4). Hate and Peace will be ignored because they have at least one uppercase letter."
   ]
  },
  {
   "cell_type": "code",
   "execution_count": 6,
   "id": "64052364",
   "metadata": {},
   "outputs": [
    {
     "data": {
      "text/plain": [
       "240"
      ]
     },
     "execution_count": 6,
     "metadata": {},
     "output_type": "execute_result"
    }
   ],
   "source": [
    "def multiply_words(string):\n",
    "    string = string.split()\n",
    "    list = [word for word in string if word.islower()]\n",
    "    product = 1\n",
    "    for word in list:\n",
    "         product = product * len(word)\n",
    "    return product\n",
    "s = \"love live and laugh\"\n",
    "multiply_words(s)"
   ]
  },
  {
   "cell_type": "code",
   "execution_count": 7,
   "id": "2fc1554f",
   "metadata": {},
   "outputs": [
    {
     "data": {
      "text/plain": [
       "12"
      ]
     },
     "execution_count": 7,
     "metadata": {},
     "output_type": "execute_result"
    }
   ],
   "source": [
    "s = \"Hate war love Peace\"\n",
    "multiply_words(s)"
   ]
  }
 ],
 "metadata": {
  "kernelspec": {
   "display_name": "Python 3 (ipykernel)",
   "language": "python",
   "name": "python3"
  },
  "language_info": {
   "codemirror_mode": {
    "name": "ipython",
    "version": 3
   },
   "file_extension": ".py",
   "mimetype": "text/x-python",
   "name": "python",
   "nbconvert_exporter": "python",
   "pygments_lexer": "ipython3",
   "version": "3.9.12"
  }
 },
 "nbformat": 4,
 "nbformat_minor": 5
}
