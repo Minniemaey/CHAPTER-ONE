{
 "cells": [
  {
   "cell_type": "markdown",
   "metadata": {
    "id": "kwt3ixjmVJkI"
   },
   "source": [
    "PYTHON CHALLENGE: DAY 1 "
   ]
  },
  {
   "cell_type": "markdown",
   "metadata": {
    "id": "2CndWKDcUxSv"
   },
   "source": [
    "Write  a  function  called divide_or_square that takes  one argument(a number), andreturns the squareroot of thenumber if it is divisible by 5,returns its remainder if it is not divisible by 5.For example, if you pass 10as an argument, then your function should return 3.16asthe square root."
   ]
  },
  {
   "cell_type": "code",
   "execution_count": 1,
   "metadata": {
    "id": "cOjRsFk_WhnZ"
   },
   "outputs": [],
   "source": [
    "import math"
   ]
  },
  {
   "cell_type": "code",
   "execution_count": 2,
   "metadata": {
    "colab": {
     "base_uri": "https://localhost:8080/"
    },
    "id": "U7Bl--mkUqS1",
    "outputId": "f21e4436-f841-4c0b-e45a-a6f60a5159b4"
   },
   "outputs": [
    {
     "name": "stdout",
     "output_type": "stream",
     "text": [
      "Enter a number: 33\n",
      "33 is not divisible by 5. Hence the remainder when divided by 5 is 3\n"
     ]
    }
   ],
   "source": [
    "#Method 1\n",
    "#creating a function that takes one argument\n",
    "def divide_or_square(number): \n",
    "    if number % 5 == 0:   #if number is divisible by 5\n",
    "        print(\"The square root of\",number,\"is\",math.sqrt(number))     #math.sqrt is the inbuilt function for square root\n",
    "    else:\n",
    "        print( number,\"is not divisible by 5. Hence the remainder when divided by 5 is\",(number % 5))\n",
    "\n",
    "number = int(input(\"Enter a number: \"))       #defining number (argument) to be user input\n",
    "result = divide_or_square(number)             #assigning return value to the function\n",
    "result\n",
    "  \n"
   ]
  },
  {
   "cell_type": "code",
   "execution_count": 3,
   "metadata": {
    "id": "ZXoZA6yeeaj3"
   },
   "outputs": [],
   "source": [
    "#Method 2\n",
    "#creating a function that takes one argument\n",
    "def divide_or_square(number):\n",
    "    if number % 5 == 0:   #if number is divisible by 5\n",
    "        print(\"The square root of\",number,\"is\",math.sqrt(number))\n",
    "    else:\n",
    "        print(\"The remainder of\",number,\"divided by 5 is\",(number % 5))"
   ]
  },
  {
   "cell_type": "code",
   "execution_count": 4,
   "metadata": {
    "colab": {
     "base_uri": "https://localhost:8080/"
    },
    "id": "bcuP2tSIenp8",
    "outputId": "d35cb35b-3402-4ba0-e950-d6342fc0bdc2"
   },
   "outputs": [
    {
     "name": "stdout",
     "output_type": "stream",
     "text": [
      "The square root of 10 is 3.1622776601683795\n",
      "The remainder of 12 divided by 5 is 2\n"
     ]
    }
   ],
   "source": [
    "divide_or_square(10)\n",
    "divide_or_square(12)"
   ]
  },
  {
   "cell_type": "code",
   "execution_count": 5,
   "metadata": {
    "colab": {
     "base_uri": "https://localhost:8080/"
    },
    "id": "4haTonuXna5S",
    "outputId": "9fba7b85-c5ec-4d40-9d81-16e6fd3982a0"
   },
   "outputs": [
    {
     "name": "stdout",
     "output_type": "stream",
     "text": [
      "Enter a number: 43\n",
      "43 is not divisible by 5. Hence the remainder when divided by 5 is 3\n"
     ]
    }
   ],
   "source": [
    "#Method 3\n",
    "#creating a function that takes one argument\n",
    "def divide_or_square(number): \n",
    "    if number % 5 == 0:     #if number is divisible by 5\n",
    "        print(\"The square root of\",number,\"is\",math.sqrt(number))     \n",
    "    else:\n",
    "        if number % 5 != 0:     #if the number cannot be divided by 5\n",
    "            print( number,\"is not divisible by 5. Hence the remainder when divided by 5 is\",(number % 5))\n",
    "\n",
    "number = divide_or_square(int(input(\"Enter a number: \")))       #defining number to be user input and assigning return value to the function\n",
    "number"
   ]
  },
  {
   "cell_type": "markdown",
   "metadata": {
    "id": "rFb9O79kqG2A"
   },
   "source": [
    "Write  a  function called longest_value that  takes  a  dictionary as an  argument  and  returns  the first longest value  of  the dictionary.  For example,the  following  dictionary  should  return –apple as the longest value.\n",
    "fruits = {'fruit': 'apple', 'color': 'green'}"
   ]
  },
  {
   "cell_type": "code",
   "execution_count": 6,
   "metadata": {
    "colab": {
     "base_uri": "https://localhost:8080/"
    },
    "id": "Vec6UMXp6tCB",
    "outputId": "5d6c5fed-1195-4c1c-abea-08690a9e1e98"
   },
   "outputs": [
    {
     "name": "stdout",
     "output_type": "stream",
     "text": [
      "{'a': 'apple', 'b': 'bananas', 'c': 'coconut', 'g': 'guava'}\n",
      "The first longest value is bananas\n"
     ]
    }
   ],
   "source": [
    "#defining the function longest_value\n",
    "def longest_value(fruits):\n",
    "    longest = []\n",
    "    for values in fruits.values():    #iterate for each value in the dictionary \"fruits\"\n",
    "        if len(values) > len(longest):\n",
    "            longest = values\n",
    "    return longest  \n",
    "fruits = {\"a\": \"apple\", \"b\": \"bananas\", \"c\": \"coconut\", \"g\":\"guava\"}\n",
    "print(fruits)\n",
    "print(\"The first longest value is\",longest_value(fruits))   "
   ]
  }
 ],
 "metadata": {
  "colab": {
   "provenance": []
  },
  "kernelspec": {
   "display_name": "Python 3 (ipykernel)",
   "language": "python",
   "name": "python3"
  },
  "language_info": {
   "codemirror_mode": {
    "name": "ipython",
    "version": 3
   },
   "file_extension": ".py",
   "mimetype": "text/x-python",
   "name": "python",
   "nbconvert_exporter": "python",
   "pygments_lexer": "ipython3",
   "version": "3.9.12"
  }
 },
 "nbformat": 4,
 "nbformat_minor": 1
}
