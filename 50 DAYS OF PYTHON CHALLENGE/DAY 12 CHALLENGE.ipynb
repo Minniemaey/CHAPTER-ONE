{
 "cells": [
  {
   "cell_type": "markdown",
   "id": "b20cb019",
   "metadata": {},
   "source": [
    "Day 12: Count the Dots\n",
    "Write a function called count_dots. This function takes a string separated by dots as a parameter and counts how many dots are in the string. For example, ‘h.e.l.p.’ should return 4 dots, and ‘he.lp.’ should return 2 dots."
   ]
  },
  {
   "cell_type": "code",
   "execution_count": 1,
   "id": "dcbfa3d2",
   "metadata": {},
   "outputs": [
    {
     "name": "stdout",
     "output_type": "stream",
     "text": [
      "Enter dotted string: h.e.l.p.\n",
      "There are 4 dots in the string\n"
     ]
    }
   ],
   "source": [
    "dot_str = input(\"Enter dotted string: \")\n",
    "def count_dots(dot_str):\n",
    "    count = 0\n",
    "    for character in dot_str:\n",
    "        if character == \".\":\n",
    "            count+=1\n",
    "    print(\"There are\",count,\"dots in the string\")\n",
    "count_dots(dot_str)\n",
    "\n",
    "        \n",
    "        "
   ]
  },
  {
   "cell_type": "code",
   "execution_count": 2,
   "id": "84afbf1a",
   "metadata": {},
   "outputs": [
    {
     "name": "stdout",
     "output_type": "stream",
     "text": [
      "Enter dotted string: he.lp.\n",
      "There are 2 dots in the string\n"
     ]
    }
   ],
   "source": [
    "#alternatively\n",
    "dot_str = input(\"Enter dotted string: \")\n",
    "def count_dots(dot_str):\n",
    "    count = len([x for x in dot_str if x == \".\"])\n",
    "    print(\"There are\",count,\"dots in the string\")\n",
    "count_dots(dot_str)"
   ]
  },
  {
   "cell_type": "markdown",
   "id": "60e805a2",
   "metadata": {},
   "source": [
    "Extra Challenge: Your Age in Minutes\n",
    "Write a function called age_in_minutes that tells a user how old they are in minutes. Your code should ask the user to enter their year of birth, and it should return their age in minutes (by subtracting their year of birth to the current year).\n",
    "Here are things to look out for:\n",
    "a. The user can only input a 4-digit year of birth. For example, 1930 is a valid year. However, entering any number longer or less than 4 digits long should render input invalid. Notify the user to input a four digits number.\n",
    "b. If a user enters a year before 1900, your code should tell the user that input is invalid. If the user enters the year after the current year, the code should tell the user, to input a valid year. The code should run until the user inputs a valid year.\n",
    "Your function should return the user's age in minutes. For example, if someone enters 1930, as their year of birth your function should return: You are 48,355,200 minutes old."
   ]
  },
  {
   "cell_type": "code",
   "execution_count": 3,
   "id": "571d970e",
   "metadata": {},
   "outputs": [
    {
     "name": "stdout",
     "output_type": "stream",
     "text": [
      "Enter your year of birth: 1930\n",
      "You are 48,355,200 minutes old\n"
     ]
    }
   ],
   "source": [
    "birth_year = int(input(\"Enter your year of birth: \"))\n",
    "def age_in_minutes():\n",
    "    age = (2022 - birth_year)\n",
    "    if len(str(birth_year)) < 4 or len(str(birth_year)) > 4:\n",
    "        print(\"Invalid year. Please enter a 4-digit number\")\n",
    "    elif birth_year < 1900 or birth_year > 2022:\n",
    "        print(\"Invalid year. Please enter year between 1900 and 2022\")\n",
    "    else:\n",
    "        age_in_mins = age*365*24*60\n",
    "        print(\"You are\",'{:,}'.format(age_in_mins),\"minutes old\") \n",
    "age_in_minutes()\n",
    "    "
   ]
  }
 ],
 "metadata": {
  "kernelspec": {
   "display_name": "Python 3 (ipykernel)",
   "language": "python",
   "name": "python3"
  },
  "language_info": {
   "codemirror_mode": {
    "name": "ipython",
    "version": 3
   },
   "file_extension": ".py",
   "mimetype": "text/x-python",
   "name": "python",
   "nbconvert_exporter": "python",
   "pygments_lexer": "ipython3",
   "version": "3.9.12"
  }
 },
 "nbformat": 4,
 "nbformat_minor": 5
}
