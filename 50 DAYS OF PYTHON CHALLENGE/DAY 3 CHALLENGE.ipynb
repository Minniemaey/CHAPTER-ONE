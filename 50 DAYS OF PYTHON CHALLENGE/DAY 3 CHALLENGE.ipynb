{
 "cells": [
  {
   "cell_type": "markdown",
   "id": "5885c191",
   "metadata": {},
   "source": [
    "Write a function called register_check that checks how many students are in school. The function takes a dictionary as a parameter. If the student is in school, the dictionary says ‘yes’. If the student is not in school, the dictionary says ‘no’. Your function should return the number of students in school. Use the dictionary below. Your function should return 3. "
   ]
  },
  {
   "cell_type": "code",
   "execution_count": 1,
   "id": "6ee6f158",
   "metadata": {},
   "outputs": [
    {
     "name": "stdout",
     "output_type": "stream",
     "text": [
      "Michael is present\n",
      "John is absent\n",
      "Peter is present\n",
      "Mary is present\n",
      "Total number present is 3\n"
     ]
    }
   ],
   "source": [
    "register = {'Michael':'yes','John':'no','Peter':'yes', 'Mary':'yes'} \n",
    "#defining the function register_check to check number of students present in school\n",
    "def register_check(register):\n",
    "    population = 0\n",
    "    for student, status in register.items(): #looping through the values to each key in the dictionary\n",
    "        if status == \"yes\":                  #status = present or absent\n",
    "            print(student, \"is present\")\n",
    "            population = population + 1\n",
    "        else:\n",
    "            print(student, \"is absent\")\n",
    "    print(\"Total number present is\", population)\n",
    "register_check(register)    #calling the function"
   ]
  },
  {
   "cell_type": "markdown",
   "id": "5017aa31",
   "metadata": {},
   "source": [
    "names = [\"kerry\", \"dickson\", \"John\", \"Mary\", \"carol\", \"Rose\", \"adam\"]  \n",
    "You are given a list of names above. This list is made up of names of lowercase and uppercase letters. Your task is to write a code that will return a tuple of all the names in the list that have only lowercase letters. Your tuple should have names sorted alphabetically in descending order. Using the list above, your code should return: ('kerry', 'dickson', 'carol', 'adam') "
   ]
  },
  {
   "cell_type": "code",
   "execution_count": 2,
   "id": "1a4d8204",
   "metadata": {},
   "outputs": [
    {
     "name": "stdout",
     "output_type": "stream",
     "text": [
      "['kerry', 'dickson', 'carol', 'adam', 'gregory']\n",
      "('kerry', 'gregory', 'dickson', 'carol', 'adam')\n"
     ]
    }
   ],
   "source": [
    "#Program to print and sort aphabetically in descending order of lowercase names in a list of names\n",
    "#defining the function Lower_case_names\n",
    "def lower_case(names_list):\n",
    "    lower_case_names = []      #assigning an empty list to contain all names in lower case\n",
    "    for name in names_list:     #iterating for each name in the list\n",
    "        if name.islower():      #if the name is in lowercase\n",
    "            lower_case_names.append(name)      #adds each name that is in lower case to the empty list created\n",
    "    print(lower_case_names)\n",
    "    sorted_list = sorted(lower_case_names, reverse = 1) #sorted() returns in acending order, in logic, the boolean True == 1\n",
    "    print(tuple(sorted_list))    #printing the sorted list as a tuple\n",
    "            \n",
    "names_list = [\"kerry\", \"dickson\", \"John\", \"Mary\", \"carol\", \"Rose\", \"adam\", \"gregory\"]\n",
    "lower_case(names_list)     \n"
   ]
  }
 ],
 "metadata": {
  "kernelspec": {
   "display_name": "Python 3 (ipykernel)",
   "language": "python",
   "name": "python3"
  },
  "language_info": {
   "codemirror_mode": {
    "name": "ipython",
    "version": 3
   },
   "file_extension": ".py",
   "mimetype": "text/x-python",
   "name": "python",
   "nbconvert_exporter": "python",
   "pygments_lexer": "ipython3",
   "version": "3.9.12"
  }
 },
 "nbformat": 4,
 "nbformat_minor": 5
}
