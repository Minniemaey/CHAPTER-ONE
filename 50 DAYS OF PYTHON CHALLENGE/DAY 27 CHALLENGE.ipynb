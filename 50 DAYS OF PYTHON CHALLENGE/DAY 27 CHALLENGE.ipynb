{
 "cells": [
  {
   "cell_type": "markdown",
   "id": "efd59e32",
   "metadata": {},
   "source": [
    "Day 27: Unique Numbers\n",
    "Write a function called unique_numbers that takes a list of numbers as an argument. Your function is going to find all the\n",
    "unique numbers in the list. It will then sum up the unique numbers. You will calculate the difference between the sum of\n",
    "all the numbers in the original list and the sum of unique numbers in the list. If the difference is an even number, your function should return the original list. If the difference is an odd number, your function should return a list with unique\n",
    "numbers only. For example [1, 2, 4, 5, 6, 7, 8, 8] should return [1, 2, 4, 5, 6, 7, 8, 8]."
   ]
  },
  {
   "cell_type": "code",
   "execution_count": 1,
   "id": "b4d668ce",
   "metadata": {},
   "outputs": [
    {
     "name": "stdout",
     "output_type": "stream",
     "text": [
      "[1, 2, 4, 5, 6, 7, 8, 8]\n"
     ]
    }
   ],
   "source": [
    "def unique_numbers(list):\n",
    "    unique = set(list)\n",
    "    sum_unique = sum(unique)\n",
    "    sum_list = sum(list)\n",
    "    difference = sum_list - sum_unique\n",
    "    if difference % 2 == 0:\n",
    "        print(list)\n",
    "    else:\n",
    "        print(unique)\n",
    "list = [1, 2, 4, 5, 6, 7, 8, 8]\n",
    "unique_numbers(list)\n"
   ]
  },
  {
   "cell_type": "markdown",
   "id": "a79cd4e7",
   "metadata": {},
   "source": [
    "Extra Challenge: Difference of Two Lists\n",
    "Write a function called difference that takes two lists as arguments. This function should return all the elements that are\n",
    "in list a but not in list b and all the elements in list b not in list a. For example: list1 = [1, 2, 4, 5, 6] list2 = [1, 2, 5, 7, 9] should return: [4, 6, 7, 9] Use list comprehension in your function."
   ]
  },
  {
   "cell_type": "code",
   "execution_count": 2,
   "id": "8c330701",
   "metadata": {},
   "outputs": [
    {
     "name": "stdout",
     "output_type": "stream",
     "text": [
      "[4, 6, 7, 9]\n"
     ]
    }
   ],
   "source": [
    "def difference(lista, listb):\n",
    "    or_list = [num for num in lista if num not in listb] + [num for num in listb if num not in lista]\n",
    "    print(or_list)\n",
    "lista = [1, 2, 4, 5, 6] \n",
    "listb = [1, 2, 5, 7, 9]   \n",
    "difference(lista, listb)"
   ]
  }
 ],
 "metadata": {
  "kernelspec": {
   "display_name": "Python 3 (ipykernel)",
   "language": "python",
   "name": "python3"
  },
  "language_info": {
   "codemirror_mode": {
    "name": "ipython",
    "version": 3
   },
   "file_extension": ".py",
   "mimetype": "text/x-python",
   "name": "python",
   "nbconvert_exporter": "python",
   "pygments_lexer": "ipython3",
   "version": "3.9.12"
  }
 },
 "nbformat": 4,
 "nbformat_minor": 5
}
