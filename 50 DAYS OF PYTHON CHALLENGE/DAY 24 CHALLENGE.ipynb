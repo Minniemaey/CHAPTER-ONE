{
 "cells": [
  {
   "cell_type": "markdown",
   "id": "e1b3c8cb",
   "metadata": {},
   "source": [
    "Day 24: Average Calories\n",
    "Create a function called average_calories that calculates the average calories intake of a user. The function should ask the user to input their calories intake for any number of days and once they hit ‘done’ it should calculate and return the average intake.\n"
   ]
  },
  {
   "cell_type": "code",
   "execution_count": 1,
   "id": "48a825f5",
   "metadata": {},
   "outputs": [
    {
     "name": "stdout",
     "output_type": "stream",
     "text": [
      "What is your total calories consumed: 7682\n",
      "Enter number of days: 5\n",
      "Your average calorie intake is 1536.40\n"
     ]
    }
   ],
   "source": [
    "def average_calories():\n",
    "    Cal_intake = float(input(\"What is your total calories consumed: \"))\n",
    "    Days = int(input(\"Enter number of days: \"))\n",
    "    Ave_cal = Cal_intake/Days\n",
    "    print(\"Your average calorie intake is {:.2f}\".format(Ave_cal))\n",
    "average_calories()"
   ]
  },
  {
   "cell_type": "markdown",
   "id": "e3c67656",
   "metadata": {},
   "source": [
    "Extra Challenge: Create a Nested List\n",
    "Write a function called nested_lists that takes any number of lists and creates a 2-dimensional nested list of lists. For example, if you pass the following lists as arguments: [1, 2, 3, 5], [1, 2, 3,4], [1, 3, 4, 5]. Your code should return: [[1, 2, 3, 5], [1, 2, 3, 4], [1, 3, 4, 5]]"
   ]
  },
  {
   "cell_type": "code",
   "execution_count": 2,
   "id": "79c734d4",
   "metadata": {},
   "outputs": [
    {
     "name": "stdout",
     "output_type": "stream",
     "text": [
      "Nested list = [[1, 2, 3, 5], [1, 2, 3, 4], [1, 3, 4, 5]]\n"
     ]
    }
   ],
   "source": [
    "def nested_lists(*lists):\n",
    "    nested_list = [list for list in lists]\n",
    "    print(\"Nested list =\",nested_list)\n",
    "    \n",
    "lists= [1, 2, 3, 5], [1, 2, 3,4], [1, 3, 4, 5]\n",
    "nested_lists(*lists)"
   ]
  }
 ],
 "metadata": {
  "kernelspec": {
   "display_name": "Python 3 (ipykernel)",
   "language": "python",
   "name": "python3"
  },
  "language_info": {
   "codemirror_mode": {
    "name": "ipython",
    "version": 3
   },
   "file_extension": ".py",
   "mimetype": "text/x-python",
   "name": "python",
   "nbconvert_exporter": "python",
   "pygments_lexer": "ipython3",
   "version": "3.9.12"
  }
 },
 "nbformat": 4,
 "nbformat_minor": 5
}
