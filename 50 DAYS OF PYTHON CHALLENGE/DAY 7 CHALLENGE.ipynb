{
 "cells": [
  {
   "cell_type": "markdown",
   "id": "93547e7c",
   "metadata": {},
   "source": [
    "Day 7: A String Range\n",
    "Write a function called string_range that takes a single number and returns a string of its range. The string characters\n",
    "should be separated by dots(.) For example, if you pass 6 as an argument, your function should return ‘0.1.2.3.4.5’."
   ]
  },
  {
   "cell_type": "code",
   "execution_count": 1,
   "id": "eeabe777",
   "metadata": {},
   "outputs": [
    {
     "name": "stdout",
     "output_type": "stream",
     "text": [
      "Enter a number range:6\n",
      "0.1.2.3.4.5\n"
     ]
    }
   ],
   "source": [
    "#program to return a string of number within a range\n",
    "#defining the function string_range\n",
    "def string_range(number):\n",
    "    string_list = []\n",
    "    for x in range(number):\n",
    "        string_list.append(x)\n",
    "    print(*string_list, sep= \".\") #(* means print string, sep parameter means each string character is seperated by .)\n",
    "number = int(input(\"Enter a number range:\"))\n",
    "string_range(number)\n",
    "        "
   ]
  },
  {
   "cell_type": "markdown",
   "id": "41de61a5",
   "metadata": {},
   "source": [
    "You are given a list of names, and you are asked to write a code that returns all the names that start with ‘S’. Your code should return a dictionary of all the names that start with S and how many times they appear in the dictionary. Here is a list below:\n",
    "names = [\"Joseph\",\"Nathan\", \"Sasha\", \"Kelly\", \"Muhammad\", \"Jabulani\", \"Sera”, \"Patel\", \"Sera”]\n",
    "Your code should return: {“Sasha”: 1, “Sera”: 2}"
   ]
  },
  {
   "cell_type": "code",
   "execution_count": 2,
   "id": "13d7641f",
   "metadata": {},
   "outputs": [
    {
     "name": "stdout",
     "output_type": "stream",
     "text": [
      "['Sasha', 'Sera', 'Sera']\n",
      "{'Sasha': 1, 'Sera': 2}\n"
     ]
    }
   ],
   "source": [
    "#defining the function count_names\n",
    "def count_names(name_list):\n",
    "    namelist = []   #creating an empty list to contain the names starting with S as it loops through the list\n",
    "    name_dict = {}  #creating an empty dictionary to accept the names starting with S as keys\n",
    "    for name in name_list:\n",
    "        if name.startswith(\"S\"):\n",
    "            namelist.append(name)\n",
    "    print(namelist)   #returns all names starting with S\n",
    "    for name in namelist:\n",
    "        name_dict[name] = namelist.count(name) #counts the occurrence of the names\n",
    "    print(name_dict)\n",
    "    \n",
    "name_list = [\"Joseph\",\"Nathan\", \"Sasha\", \"Kelly\", \"Muhammad\", \"Jabulani\", \"Sera\", \"Patel\", \"Sera\"]\n",
    "count_names(name_list)"
   ]
  },
  {
   "cell_type": "code",
   "execution_count": 3,
   "id": "62f54dba",
   "metadata": {},
   "outputs": [
    {
     "name": "stdout",
     "output_type": "stream",
     "text": [
      "{'Sasha': 1, 'Sera': 2}\n"
     ]
    }
   ],
   "source": [
    "#defining the function count_names\n",
    "def count_names(name_list):\n",
    "    name_dict = {}   #creating an empty dictionary to contain the names\n",
    "    for name in name_list:\n",
    "        if name.startswith('S'):       #if the name in the list starts with \"s\"\n",
    "            name_dict.fromkeys(name)   #this adds names starting with S as key to the dictionary\n",
    "    \n",
    "    #name_dict{key:value} = {\"name\" :\"name_list.count(name)\" }   \n",
    "            name_dict[name] = name_list.count(name) \n",
    "    print(name_dict)\n",
    "name_list = [\"Joseph\",\"Nathan\", \"Sasha\", \"Kelly\", \"Muhammad\", \"Jabulani\", \"Sera\", \"Patel\", \"Sera\"]\n",
    "count_names(name_list)"
   ]
  }
 ],
 "metadata": {
  "kernelspec": {
   "display_name": "Python 3 (ipykernel)",
   "language": "python",
   "name": "python3"
  },
  "language_info": {
   "codemirror_mode": {
    "name": "ipython",
    "version": 3
   },
   "file_extension": ".py",
   "mimetype": "text/x-python",
   "name": "python",
   "nbconvert_exporter": "python",
   "pygments_lexer": "ipython3",
   "version": "3.9.12"
  }
 },
 "nbformat": 4,
 "nbformat_minor": 5
}
