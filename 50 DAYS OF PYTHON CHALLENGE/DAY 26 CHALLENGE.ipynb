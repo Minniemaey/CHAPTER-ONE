{
 "cells": [
  {
   "cell_type": "markdown",
   "id": "16ab450b",
   "metadata": {},
   "source": [
    "Day 26: Sort Words\n",
    "Write a function called sort_words that takes a string of words as an argument, removes the whitespaces, and returns a list of\n",
    "letters sorted in alphabetical order. Letters will be separated by commas. All letters should appear once in the list. This means that you sort and remove duplicates. For example ‘love life’ should return as ['e,f,i,l,o,v'].\n"
   ]
  },
  {
   "cell_type": "code",
   "execution_count": 1,
   "id": "5ddc08c0",
   "metadata": {},
   "outputs": [
    {
     "name": "stdout",
     "output_type": "stream",
     "text": [
      "Enter string: love life\n",
      "['e', 'f', 'i', 'l', 'o', 'v']\n"
     ]
    }
   ],
   "source": [
    "def sort_words(string):\n",
    "    string = list(string.replace(\" \", \"\"))\n",
    "    sort_str = sorted(set(string))\n",
    "    print(sort_str)\n",
    "string = input(\"Enter string: \")\n",
    "sort_words(string)\n",
    "    "
   ]
  },
  {
   "cell_type": "markdown",
   "id": "fff386f9",
   "metadata": {},
   "source": [
    "Extra Challenge: Length of Words\n",
    "s = 'Hi my name is Richard' Write a function called string_length that takes a string of words (words and spaces) as argument. This function should return the length of all the words in the string. Return the results in a form of a dictionary. The string above should return: {'Hi': 2, 'my': 2, 'name': 4, 'is': 2, 'Richard': 7}"
   ]
  },
  {
   "cell_type": "code",
   "execution_count": 2,
   "id": "de3caedc",
   "metadata": {},
   "outputs": [
    {
     "name": "stdout",
     "output_type": "stream",
     "text": [
      "{'Hi': 2, 'my': 2, 'name': 4, 'is': 2, 'Richard': 7}\n"
     ]
    }
   ],
   "source": [
    "def string_length(string):\n",
    "    string = string.split()\n",
    "    str_dict = {}\n",
    "    for word in string:\n",
    "        str_dict[word] = len(word)\n",
    "    print(str_dict)\n",
    "string = 'Hi my name is Richard'\n",
    "string_length(string)\n",
    "\n",
    "        "
   ]
  }
 ],
 "metadata": {
  "kernelspec": {
   "display_name": "Python 3 (ipykernel)",
   "language": "python",
   "name": "python3"
  },
  "language_info": {
   "codemirror_mode": {
    "name": "ipython",
    "version": 3
   },
   "file_extension": ".py",
   "mimetype": "text/x-python",
   "name": "python",
   "nbconvert_exporter": "python",
   "pygments_lexer": "ipython3",
   "version": "3.9.12"
  }
 },
 "nbformat": 4,
 "nbformat_minor": 5
}
