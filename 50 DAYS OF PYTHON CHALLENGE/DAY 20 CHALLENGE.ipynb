{
 "cells": [
  {
   "cell_type": "markdown",
   "id": "bbc25dcc",
   "metadata": {},
   "source": [
    "Day 20: Capitalize First Letter\n",
    "Write a function called capitalize. This function takes a string as an argument and capitalizes the first letter of each word. For example, ‘i like learning’ becomes ‘I Like Learning’.. "
   ]
  },
  {
   "cell_type": "code",
   "execution_count": 1,
   "id": "f844773f",
   "metadata": {},
   "outputs": [
    {
     "name": "stdout",
     "output_type": "stream",
     "text": [
      "Enter string: i like learning always\n"
     ]
    },
    {
     "data": {
      "text/plain": [
       "'I Like Learning Always'"
      ]
     },
     "execution_count": 1,
     "metadata": {},
     "output_type": "execute_result"
    }
   ],
   "source": [
    "def capitalize(string):\n",
    "    New_string = string.title()\n",
    "    return New_string\n",
    "string = input(\"Enter string: \")\n",
    "capitalize(string)"
   ]
  },
  {
   "cell_type": "markdown",
   "id": "e548bf04",
   "metadata": {},
   "source": [
    "Extra Challenge: Reversed List\n",
    "str1 = 'leArning is hard, bUt if You appLy youRself '\\'you can achieVe success'\n",
    "You are given a string of words. Some of the words in the string contain uppercase letters. Write a code that will return all the words that have an uppercase letter. Your code should return a list of the words. Each word in the list should be reversed. Here is how your output should look: ['gninrAel', 'tUb', 'uoY', 'yLppa', 'flesRuoy', 'eVeihca']"
   ]
  },
  {
   "cell_type": "code",
   "execution_count": 2,
   "id": "c2ce6652",
   "metadata": {},
   "outputs": [],
   "source": [
    "import re #from regex module"
   ]
  },
  {
   "cell_type": "code",
   "execution_count": 3,
   "id": "120cbd60",
   "metadata": {},
   "outputs": [
    {
     "name": "stdout",
     "output_type": "stream",
     "text": [
      "['leArning', 'bUt', 'You', 'appLy', 'youRself', 'achieVe']\n",
      "['gninrAel', 'tUb', 'uoY', 'yLppa', 'flesRuoy', 'eVeihca']\n"
     ]
    }
   ],
   "source": [
    "def reversed_list():\n",
    "    string_list = re.findall(r'\\b\\w*[A-Z]\\w*\\b', string) \n",
    "    print(string_list)\n",
    "    reverse_list = [word[::-1] for word in string_list]\n",
    "    print(reverse_list)       \n",
    "string = 'leArning is hard, bUt if You appLy youRself you can achieVe success'\n",
    "reversed_list()"
   ]
  }
 ],
 "metadata": {
  "kernelspec": {
   "display_name": "Python 3 (ipykernel)",
   "language": "python",
   "name": "python3"
  },
  "language_info": {
   "codemirror_mode": {
    "name": "ipython",
    "version": 3
   },
   "file_extension": ".py",
   "mimetype": "text/x-python",
   "name": "python",
   "nbconvert_exporter": "python",
   "pygments_lexer": "ipython3",
   "version": "3.9.12"
  }
 },
 "nbformat": 4,
 "nbformat_minor": 5
}
