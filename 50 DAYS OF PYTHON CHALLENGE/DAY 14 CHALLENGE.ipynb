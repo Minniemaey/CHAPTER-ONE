{
 "cells": [
  {
   "cell_type": "markdown",
   "id": "bd5368f0",
   "metadata": {},
   "source": [
    "Day 14: Flatten the List\n",
    "Write a function called flat_list that takes one argument, a nested list. The function converts the nested list into a one dimension list. For example [[2,4,5,6]] should return [2,4,5,6]."
   ]
  },
  {
   "cell_type": "code",
   "execution_count": 1,
   "id": "03f4e2e0",
   "metadata": {},
   "outputs": [
    {
     "name": "stdout",
     "output_type": "stream",
     "text": [
      "[2, 4, 5, 6]\n"
     ]
    }
   ],
   "source": [
    "def flat_list(nested_list):\n",
    "#using list comprehension,replace sublist in the nested_list with the numbers in the sublist.  \n",
    "    one_list = [num for sublist in nested_list for num in sublist]\n",
    "    print(one_list)\n",
    "nested_list = [[2,4,5,6]]\n",
    "flat_list(nested_list)"
   ]
  },
  {
   "cell_type": "markdown",
   "id": "819574c6",
   "metadata": {},
   "source": [
    "Extra Challenge: Teacher’s Salary\n",
    "A school has asked you to write a program that will calculate teachers' salaries. The program should ask the user to enter the teacher’s name, the number of periods taught in a month, and the rate per period. The monthly salary is calculated by multiplying the number of periods by the monthly rate. The current monthly rate per period is $20. If a teacher has more than 100 periods in a month, everything above 100 is overtime. Overtime is $25 per period. For example, if a teacher has taught 105 periods, their monthly gross salary should be 2,125. Write a function called your_salary that calculates a teacher’s gross salary. The function should return the teacher’s name, periods taught, and gross salary. Here is how you should format your output:\n",
    "Teacher: John Kelly, Periods: 105 Gross salary:2,125"
   ]
  },
  {
   "cell_type": "code",
   "execution_count": 2,
   "id": "db1cd513",
   "metadata": {},
   "outputs": [
    {
     "name": "stdout",
     "output_type": "stream",
     "text": [
      "Enter your first name: John\n",
      "Enter your last name: Kelly\n",
      "Enter the number of periods taught: 105\n",
      "Enter the monthly rate: 20\n",
      "\n",
      "Teacher: John Kelly\n",
      "Periods:  105\n",
      "Gross salary:  2,125\n"
     ]
    }
   ],
   "source": [
    "def Teachers_name(first, last):\n",
    "    print(\"\\nTeacher: {} {}\".format(first, last))\n",
    "          \n",
    "def calc_salary(periods, monthly_rate):\n",
    "    print(\"Periods: \",periods)\n",
    "    \n",
    "    if periods > 100:\n",
    "        overtime = 25\n",
    "        overtime_pay = (periods-100)*overtime\n",
    "        salary = (monthly_rate*100) + overtime_pay\n",
    "        print(\"Gross salary: \",\"{:,}\".format(salary)) \n",
    "        \n",
    "    else:\n",
    "        if periods <= 100:\n",
    "            salary = (monthly_rate*periods)\n",
    "            print(\"Gross salary: \",\"{:,}\".format(salary))\n",
    "        \n",
    "first = input(\"Enter your first name: \")\n",
    "last = input(\"Enter your last name: \")          \n",
    "periods = int(input(\"Enter the number of periods taught: \"))\n",
    "monthly_rate = int(input(\"Enter the monthly rate: \"))\n",
    "\n",
    "def your_salary():\n",
    "    Teachers_name(first, last)\n",
    "    calc_salary(periods, monthly_rate)\n",
    "your_salary()\n",
    "          \n",
    "          \n",
    "    "
   ]
  },
  {
   "cell_type": "code",
   "execution_count": null,
   "id": "30094cf1",
   "metadata": {},
   "outputs": [],
   "source": []
  }
 ],
 "metadata": {
  "kernelspec": {
   "display_name": "Python 3 (ipykernel)",
   "language": "python",
   "name": "python3"
  },
  "language_info": {
   "codemirror_mode": {
    "name": "ipython",
    "version": 3
   },
   "file_extension": ".py",
   "mimetype": "text/x-python",
   "name": "python",
   "nbconvert_exporter": "python",
   "pygments_lexer": "ipython3",
   "version": "3.9.12"
  }
 },
 "nbformat": 4,
 "nbformat_minor": 5
}
