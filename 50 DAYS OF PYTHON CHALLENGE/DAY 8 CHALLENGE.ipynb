{
 "cells": [
  {
   "cell_type": "markdown",
   "id": "4179bd0b",
   "metadata": {},
   "source": [
    "Write a function called odd_even that has one parameter and takes a list of numbers as an argument. The function returns the\n",
    "difference between the largest even number in the list and the smallest odd number in the list. For example, if you pass [1,2,4,6] as an argument the function should return 6 -1= 5."
   ]
  },
  {
   "cell_type": "code",
   "execution_count": 10,
   "id": "3ae3872c",
   "metadata": {},
   "outputs": [
    {
     "name": "stdout",
     "output_type": "stream",
     "text": [
      "5\n"
     ]
    }
   ],
   "source": [
    "def odd_even(numlist):\n",
    "    even_num = []\n",
    "    odd_num = []\n",
    "    for number in numlist:\n",
    "        if number % 2 == 0:\n",
    "            even_num.append(number)\n",
    "        if number % 2 != 0:\n",
    "            odd_num.append(number)\n",
    "    diff = (max(even_num) - min(odd_num))\n",
    "    print(diff)\n",
    "numlist = [1,2,4,6]\n",
    "odd_even(numlist)"
   ]
  },
  {
   "cell_type": "markdown",
   "id": "839b74f1",
   "metadata": {},
   "source": [
    "Extra Challenge: List of Prime Numbers\n",
    "Write a function called prime_numbers. This function asks a user to enter a number (integer) as an argument and returns a\n",
    "list of all the prime numbers within its range. For example, if user enters 10, your code should return [2, 3, 5, 7] as prime numbers."
   ]
  },
  {
   "cell_type": "code",
   "execution_count": null,
   "id": "a4734ba0",
   "metadata": {},
   "outputs": [],
   "source": [
    "def prime_numbers(num_range):\n",
    "    num_range = int(input(\"Enter a number range\"))\n",
    "    for x in range(0,num+1):\n",
    "        if "
   ]
  }
 ],
 "metadata": {
  "kernelspec": {
   "display_name": "Python 3 (ipykernel)",
   "language": "python",
   "name": "python3"
  },
  "language_info": {
   "codemirror_mode": {
    "name": "ipython",
    "version": 3
   },
   "file_extension": ".py",
   "mimetype": "text/x-python",
   "name": "python",
   "nbconvert_exporter": "python",
   "pygments_lexer": "ipython3",
   "version": "3.9.12"
  }
 },
 "nbformat": 4,
 "nbformat_minor": 5
}
