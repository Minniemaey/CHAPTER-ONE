{
 "cells": [
  {
   "cell_type": "markdown",
   "id": "48e80a95",
   "metadata": {},
   "source": [
    "Write two functions. The first function is called count_words which takes a string of words and counts how many words are in the string. The second function called count_elements takes a string of words and counts how many elements are in the string. Do not\n",
    "count the whitespaces. The first function will return the number of words in a string and the second one will return the number of elements (less whitespace). If you pass ‘I love learning’, the count_words function should return 3 words and count_elements should return 13 elements."
   ]
  },
  {
   "cell_type": "code",
   "execution_count": 1,
   "id": "8cb0fd65",
   "metadata": {},
   "outputs": [
    {
     "name": "stdout",
     "output_type": "stream",
     "text": [
      "I love learning\n",
      "Number of word(s) in string =  3\n",
      "Number of element(s) in string =  13\n"
     ]
    }
   ],
   "source": [
    "def count_words():\n",
    "    word_count = len(string.split(\" \"))\n",
    "    print(\"Number of word(s) in string = \",word_count)\n",
    "def count_elements():\n",
    "    element_count = len(string.replace(\" \", \"\"))\n",
    "    print(\"Number of element(s) in string = \",element_count)\n",
    "\n",
    "string = input()\n",
    "def count():\n",
    "    count_words()\n",
    "    count_elements()\n",
    "count()"
   ]
  }
 ],
 "metadata": {
  "kernelspec": {
   "display_name": "Python 3 (ipykernel)",
   "language": "python",
   "name": "python3"
  },
  "language_info": {
   "codemirror_mode": {
    "name": "ipython",
    "version": 3
   },
   "file_extension": ".py",
   "mimetype": "text/x-python",
   "name": "python",
   "nbconvert_exporter": "python",
   "pygments_lexer": "ipython3",
   "version": "3.9.12"
  }
 },
 "nbformat": 4,
 "nbformat_minor": 5
}
