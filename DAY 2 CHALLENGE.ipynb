{
 "cells": [
  {
   "cell_type": "markdown",
   "id": "e591e41b",
   "metadata": {},
   "source": [
    "Strings to Integers\n",
    "Write a function called convert_add that takes a list of strings as an argument and converts it to integers and sums the list. For example [‘1’, ‘3’, ‘5’] should be converted to [1, 3, 5] and summed to 9."
   ]
  },
  {
   "cell_type": "code",
   "execution_count": 1,
   "id": "7f92f04a",
   "metadata": {},
   "outputs": [
    {
     "name": "stdout",
     "output_type": "stream",
     "text": [
      "Enter a number: 1\n",
      "Enter a number: 3\n",
      "Enter a number: 5\n",
      "['1', '3', '5']\n",
      "[1, 3, 5]\n",
      "9\n"
     ]
    }
   ],
   "source": [
    "#defining the function convert_add to accept a list of numbers as argument\n",
    "def convert_add(list):    \n",
    "#assigning an empty list for loop\n",
    "    list = []      \n",
    "    list_length = 3   #I want the loop to iterate 3times i.e my list will contain 3 numbers  \n",
    "    for i in range(list_length):\n",
    "        number = input(\"Enter a number: \")  #each i in the list length is equivalent to a number   \n",
    "    #filling the empty list earlier declared using append()\n",
    "        list.append(number)\n",
    "    print(list)     #this returns the list of numbers as strings \n",
    "    print([int(number) for number in list])     #this output returns the list as integers  \n",
    "    print(sum([int(number) for number in list])) #summing up all the values in the list\n",
    "\n",
    "mylist = convert_add(list)\n",
    "mylist             #calling the function"
   ]
  },
  {
   "cell_type": "markdown",
   "id": "43054f29",
   "metadata": {},
   "source": [
    "Extra Challenge: Duplicate Names \n",
    "Write a function called check_duplicates that takes a list of strings as an argument. The function should check if the list has any duplicates. If there are duplicates, the function should return the duplicates. If there are no duplicates, the function should return \"No duplicates\". For example, the list of fruits below should return apple as a duplicate and list of names should return \"no duplicates\". fruits = ['apple', 'orange', 'banana', 'apple'] names = ['Yoda', 'Moses', 'Joshua', 'Mark'] "
   ]
  },
  {
   "cell_type": "code",
   "execution_count": 44,
   "id": "e441c8b9",
   "metadata": {},
   "outputs": [],
   "source": [
    "#defining the function check_duplicate to check for duplicate\n",
    "\n",
    "def check_duplicate(list):\n",
    "    for item in list:\n",
    "        if  list.count(item) > 1: #checks the number of times the item occurs\n",
    "            \n",
    "            return item     #returns the items that are duplicated\n",
    "    else:\n",
    "        print(\"No duplicates\")\n",
    "fruits = [\"apple\", \"orange\", \"banana\", \"apple\"] #creating the fruit list\n",
    "\n",
    "names = [\"Yoda\", \"Moses\", \"Joshua\", \"Mark\"]    #creating names list"
   ]
  },
  {
   "cell_type": "code",
   "execution_count": 45,
   "id": "b97c5be2",
   "metadata": {
    "scrolled": true
   },
   "outputs": [
    {
     "data": {
      "text/plain": [
       "'apple'"
      ]
     },
     "execution_count": 45,
     "metadata": {},
     "output_type": "execute_result"
    }
   ],
   "source": [
    "check_duplicate(fruits) #calling the function"
   ]
  },
  {
   "cell_type": "code",
   "execution_count": 46,
   "id": "0933839a",
   "metadata": {
    "scrolled": true
   },
   "outputs": [
    {
     "name": "stdout",
     "output_type": "stream",
     "text": [
      "No duplicates\n"
     ]
    }
   ],
   "source": [
    "check_duplicate(names) #calling the function"
   ]
  }
 ],
 "metadata": {
  "kernelspec": {
   "display_name": "Python 3 (ipykernel)",
   "language": "python",
   "name": "python3"
  },
  "language_info": {
   "codemirror_mode": {
    "name": "ipython",
    "version": 3
   },
   "file_extension": ".py",
   "mimetype": "text/x-python",
   "name": "python",
   "nbconvert_exporter": "python",
   "pygments_lexer": "ipython3",
   "version": "3.9.12"
  }
 },
 "nbformat": 4,
 "nbformat_minor": 5
}
